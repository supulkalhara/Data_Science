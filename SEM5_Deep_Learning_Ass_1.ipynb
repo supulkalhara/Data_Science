{
  "nbformat": 4,
  "nbformat_minor": 0,
  "metadata": {
    "colab": {
      "provenance": [],
      "mount_file_id": "144swZwoClngeuMhfVv_w9y0tgQcKWqYq",
      "authorship_tag": "ABX9TyN00XNbEDNwnAqahOeMex8N",
      "include_colab_link": true
    },
    "kernelspec": {
      "name": "python3",
      "display_name": "Python 3"
    },
    "language_info": {
      "name": "python"
    }
  },
  "cells": [
    {
      "cell_type": "markdown",
      "metadata": {
        "id": "view-in-github",
        "colab_type": "text"
      },
      "source": [
        "<a href=\"https://colab.research.google.com/github/supulkalhara/Data_Science/blob/main/SEM5_Deep_Learning_Ass_1.ipynb\" target=\"_parent\"><img src=\"https://colab.research.google.com/assets/colab-badge.svg\" alt=\"Open In Colab\"/></a>"
      ]
    },
    {
      "cell_type": "code",
      "execution_count": 2161,
      "metadata": {
        "colab": {
          "base_uri": "https://localhost:8080/"
        },
        "id": "yP1lACzMEbK9",
        "outputId": "18dc3c4b-e3b5-4ebd-901f-3a85f0f4409e"
      },
      "outputs": [
        {
          "output_type": "stream",
          "name": "stdout",
          "text": [
            "Drive already mounted at /content/drive; to attempt to forcibly remount, call drive.mount(\"/content/drive\", force_remount=True).\n"
          ]
        }
      ],
      "source": [
        "from google.colab import drive\n",
        "drive.mount('/content/drive')"
      ]
    },
    {
      "cell_type": "code",
      "source": [
        "import numpy as np\n",
        "import pandas as pd\n",
        "import matplotlib.pyplot as plt\n",
        "from math import e\n",
        "from tqdm import tqdm\n",
        "from sklearn.preprocessing import OneHotEncoder\n",
        "from sklearn.metrics import confusion_matrix, ConfusionMatrixDisplay\n",
        "from sklearn.metrics import accuracy_score"
      ],
      "metadata": {
        "id": "-Bev3bM4HWIH"
      },
      "execution_count": 2162,
      "outputs": []
    },
    {
      "cell_type": "code",
      "source": [
        "ohe = OneHotEncoder()"
      ],
      "metadata": {
        "id": "nKesXRZoe7Ko"
      },
      "execution_count": 2163,
      "outputs": []
    },
    {
      "cell_type": "markdown",
      "source": [
        "## Methods"
      ],
      "metadata": {
        "id": "Kdj3toj_MaA0"
      }
    },
    {
      "cell_type": "code",
      "source": [
        "def one_hot(y):\n",
        "  _y = np.zeros((y.size , y.max() + 1))\n",
        "  _y[np.arange(y.size) , y] = 1\n",
        "  return _y.T"
      ],
      "metadata": {
        "id": "1LLLzYbuVMz2"
      },
      "execution_count": 2164,
      "outputs": []
    },
    {
      "cell_type": "code",
      "source": [
        "# methods for W and b initialization\n",
        "def default__init__():\n",
        "  W1 = np.random.randn(14, 100) * np.sqrt(2/14)\n",
        "  b1 = np.zeros((100, 1))\n",
        "  W2 = np.random.randn(100, 40) * np.sqrt(2/100)\n",
        "  b2 = np.zeros((40, 1))\n",
        "  W3 = np.random.randn(40, 4) * np.sqrt(2/40)\n",
        "  b3 = np.zeros((4, 1))\n",
        "  \n",
        "  return W1, b1, W2, b2, W3, b3\n",
        "\n",
        "def file__init__(W, b):\n",
        "  W1 = W.iloc[:14].dropna(axis=1).to_numpy()\n",
        "  b1 = b.iloc[0].dropna().to_numpy().reshape(100, 1)\n",
        "  W2 = W.iloc[14:114].dropna(axis=1).to_numpy()\n",
        "  b2 = b.iloc[1].dropna().to_numpy().reshape(40, 1)\n",
        "  W3 = W.iloc[114:154].dropna(axis=1).to_numpy()\n",
        "  b3 = b.iloc[2].dropna().to_numpy().reshape(4, 1)\n",
        "  \n",
        "  return W1, b1, W2, b2, W3, b3"
      ],
      "metadata": {
        "id": "vNPnX70-NTVb"
      },
      "execution_count": 2165,
      "outputs": []
    },
    {
      "cell_type": "code",
      "source": [
        "# methods for ReLU\n",
        "def ReLU(Z):\n",
        "  return np.maximum(0, Z)\n",
        "\n",
        "def backward_ReLU(dA, Z):\n",
        "  dZ = np.array(dA, copy=True)\n",
        "  dZ[Z <= 0] = 0\n",
        "  return dZ"
      ],
      "metadata": {
        "id": "7rPru2atNmKf"
      },
      "execution_count": 2166,
      "outputs": []
    },
    {
      "cell_type": "code",
      "source": [
        "def softmax(z):\n",
        "  return np.exp(z) / np.sum(np.exp(z), axis=0)"
      ],
      "metadata": {
        "id": "Eev_Yb4cs3Dr"
      },
      "execution_count": 2167,
      "outputs": []
    },
    {
      "cell_type": "code",
      "source": [
        "# methods for forward and backwards propagations\n",
        "def forward_propagation(X, params):\n",
        "  W1, b1, W2, b2, W3, b3 = params\n",
        "\n",
        "  # layer 1 -> layer 2\n",
        "  Z1 = (W1.T @ X) + b1 \n",
        "  A1 = ReLU(Z1)\n",
        "\n",
        "  # layer 2 -> layer 3\n",
        "  Z2 = (W2.T @ A1) + b2 \n",
        "  A2 = ReLU(Z2)\n",
        "\n",
        "  # layer 3 -> layer 4\n",
        "  Z3 = (W3.T @ A2) + b3\n",
        "  A3 = softmax(Z3)\n",
        "\n",
        "  return X, Z1, A1, Z2, A2, Z3, A3\n",
        "\n",
        "def backward_propagation(params, values, Y):\n",
        "  W1, b1, W2, b2, W3, b3 = params\n",
        "  A0, Z1, A1, Z2, A2, Z3, A3 = values\n",
        "  m = A3.shape[1]\n",
        "\n",
        "  dZ3 = A3 - Y\n",
        "  dW3 = 1. / m * np.dot(dZ3, A2.T)\n",
        "  db3 = (1/m) * np.sum(dZ3, axis=1, keepdims=True)\n",
        "\n",
        "  dA2 = W3 @ dZ3\n",
        "  dZ2 = backward_ReLU(dA2, Z2)\n",
        "  dW2 = 1. / m * np.dot(dZ2, A1.T)\n",
        "  db2 = (1/m) * np.sum(dZ2, axis=1, keepdims=True)\n",
        "\n",
        "  dA1 = (W2 @ dZ2)\n",
        "  dZ1 = backward_ReLU(dA1, Z1)\n",
        "  dW1 = 1. / m * np.dot(dZ1, A0.T)\n",
        "  db1 = (1/m) * np.sum(dZ1, axis=1, keepdims=True)\n",
        "\n",
        "  return dW1, db1, dW2, db2, dW3, db3"
      ],
      "metadata": {
        "id": "P2owrznINaCW"
      },
      "execution_count": 2168,
      "outputs": []
    },
    {
      "cell_type": "code",
      "source": [
        "# method for calculating cost\n",
        "def find_cost(A, Y):\n",
        "  return np.sum(-np.sum(Y * np.log(A+1e-20), axis=0)) / Y.shape[1]"
      ],
      "metadata": {
        "id": "mRUMmzYWNa4J"
      },
      "execution_count": 2169,
      "outputs": []
    },
    {
      "cell_type": "code",
      "source": [
        "# method for updating parameters\n",
        "def update_params(params, learning_rate, grads):\n",
        "  W1, b1, W2, b2, W3, b3 = params\n",
        "  dW1, db1, dW2, db2, dW3, db3 = grads\n",
        "\n",
        "  W1 = W1 - learning_rate*dW1.T\n",
        "  b1 = b1 - learning_rate*db1\n",
        "  W2 = W2 - learning_rate*dW2.T\n",
        "  b2 = b2 - learning_rate*db2\n",
        "  W3 = W3 - learning_rate*dW3.T\n",
        "  b3 = b3 - learning_rate*db3\n",
        "\n",
        "  return W1, b1, W2, b2, W3, b3"
      ],
      "metadata": {
        "id": "vAk0Y6FTNhU4"
      },
      "execution_count": 2170,
      "outputs": []
    },
    {
      "cell_type": "code",
      "source": [
        "def predict(X, params):\n",
        "  values = forward_propagation(X, params)\n",
        "  A3 = values[-1]\n",
        "  return A3"
      ],
      "metadata": {
        "id": "-QSNlH7vXykS"
      },
      "execution_count": 2171,
      "outputs": []
    },
    {
      "cell_type": "code",
      "source": [
        "class Model:\n",
        "\n",
        "  # model and parameters initialization\n",
        "  def __init__(self, weights=\"\", biases=\"\", random=True):\n",
        "    if random :\n",
        "      self.params = default__init__()\n",
        "    else:\n",
        "      self.params = file__init__(weights,biases)\n",
        "\n",
        "  #gradient descent\n",
        "  def grad_dec(self, X, Y, n_iterations=100, learning_rate=0.001):\n",
        "\n",
        "    for i in range(n_iterations):\n",
        "      values = forward_propagation(X, self.params)\n",
        "      cost = find_cost(values[-1], Y)\n",
        "      grads = backward_propagation(self.params, values, Y)\n",
        "      params = update_params(self.params, learning_rate, grads)\n",
        "\n",
        "    out = params, grads, cost\n",
        "    return out\n"
      ],
      "metadata": {
        "id": "BUDEWnypHaxJ"
      },
      "execution_count": 2172,
      "outputs": []
    },
    {
      "cell_type": "markdown",
      "source": [
        "---"
      ],
      "metadata": {
        "id": "w9GjkWt8MjD_"
      }
    },
    {
      "cell_type": "markdown",
      "source": [
        "## __ __init__ __"
      ],
      "metadata": {
        "id": "4IoySygIQ6zz"
      }
    },
    {
      "cell_type": "code",
      "source": [
        "X = np.array([-1, 1, 1, 1, -1, -1, 1, -1, 1, 1, -1, -1, 1, 1]).reshape(14,1)\n",
        "Y = np.array([3])\n",
        "Y = one_hot(Y)"
      ],
      "metadata": {
        "id": "9KQ28q4hOErw"
      },
      "execution_count": 2173,
      "outputs": []
    },
    {
      "cell_type": "code",
      "source": [
        "X"
      ],
      "metadata": {
        "colab": {
          "base_uri": "https://localhost:8080/"
        },
        "id": "M2y1g2OxZoK8",
        "outputId": "5643869a-3845-4b01-ec10-59ee065db338"
      },
      "execution_count": 2174,
      "outputs": [
        {
          "output_type": "execute_result",
          "data": {
            "text/plain": [
              "array([[-1],\n",
              "       [ 1],\n",
              "       [ 1],\n",
              "       [ 1],\n",
              "       [-1],\n",
              "       [-1],\n",
              "       [ 1],\n",
              "       [-1],\n",
              "       [ 1],\n",
              "       [ 1],\n",
              "       [-1],\n",
              "       [-1],\n",
              "       [ 1],\n",
              "       [ 1]])"
            ]
          },
          "metadata": {},
          "execution_count": 2174
        }
      ]
    },
    {
      "cell_type": "code",
      "source": [
        "Y"
      ],
      "metadata": {
        "colab": {
          "base_uri": "https://localhost:8080/"
        },
        "id": "IhuMwvCEZqnt",
        "outputId": "e9e4a2d1-8ada-43f1-ba07-aeea8c177322"
      },
      "execution_count": 2175,
      "outputs": [
        {
          "output_type": "execute_result",
          "data": {
            "text/plain": [
              "array([[0.0000000000000000],\n",
              "       [0.0000000000000000],\n",
              "       [0.0000000000000000],\n",
              "       [1.0000000000000000]])"
            ]
          },
          "metadata": {},
          "execution_count": 2175
        }
      ]
    },
    {
      "cell_type": "markdown",
      "source": [
        "## Task_1/a"
      ],
      "metadata": {
        "id": "dOUhGMqfMlYL"
      }
    },
    {
      "cell_type": "code",
      "source": [
        "w = pd.read_csv('/content/drive/MyDrive/Datasets/SEM5_Deep_Learning_Ass_1/Task_1/a/w.csv', header=None)\n",
        "b = pd.read_csv('/content/drive/MyDrive/Datasets/SEM5_Deep_Learning_Ass_1/Task_1/a/b.csv', header=None)\n",
        "w.drop(0, axis=1, inplace=True)\n",
        "b.drop(0, axis=1, inplace=True)"
      ],
      "metadata": {
        "id": "252ZuFIJPqfX"
      },
      "execution_count": 2176,
      "outputs": []
    },
    {
      "cell_type": "code",
      "source": [
        "model = Model(weights=w, biases=b, random=False)"
      ],
      "metadata": {
        "id": "Swvdsbq9-kc0"
      },
      "execution_count": 2177,
      "outputs": []
    },
    {
      "cell_type": "code",
      "source": [
        "output = model.grad_dec(X, Y, n_iterations=1)\n",
        "params, grads, cost = output[0], output[1], output[2]\n",
        "print(cost)"
      ],
      "metadata": {
        "colab": {
          "base_uri": "https://localhost:8080/"
        },
        "id": "g1oOicWHMy5-",
        "outputId": "c8b29a50-2c05-47bd-dddb-9a481e283205"
      },
      "execution_count": 2178,
      "outputs": [
        {
          "output_type": "stream",
          "name": "stdout",
          "text": [
            "46.051701859880914\n"
          ]
        }
      ]
    },
    {
      "cell_type": "markdown",
      "source": [
        "46.051701859880914\n"
      ],
      "metadata": {
        "id": "QLu9xU1_WArr"
      }
    },
    {
      "cell_type": "code",
      "source": [
        "predict(X, params)"
      ],
      "metadata": {
        "colab": {
          "base_uri": "https://localhost:8080/"
        },
        "id": "2Q0whSt_kIlB",
        "outputId": "c86ad037-e91f-441b-f0e3-fa8f810f5ddd"
      },
      "execution_count": 2179,
      "outputs": [
        {
          "output_type": "execute_result",
          "data": {
            "text/plain": [
              "array([[0.0000000000000000],\n",
              "       [0.0000000000000000],\n",
              "       [1.0000000000000000],\n",
              "       [0.0000000000000000]])"
            ]
          },
          "metadata": {},
          "execution_count": 2179
        }
      ]
    },
    {
      "cell_type": "code",
      "source": [
        "true_dw = pd.read_csv('/content/drive/MyDrive/Datasets/SEM5_Deep_Learning_Ass_1/Task_1/a/true-dw.csv', header=None)\n",
        "true_db = pd.read_csv('/content/drive/MyDrive/Datasets/SEM5_Deep_Learning_Ass_1/Task_1/a/true-db.csv', header=None)"
      ],
      "metadata": {
        "id": "LeMMcHaNvmtu"
      },
      "execution_count": 2180,
      "outputs": []
    },
    {
      "cell_type": "code",
      "source": [
        "true_dw.head()"
      ],
      "metadata": {
        "colab": {
          "base_uri": "https://localhost:8080/",
          "height": 299
        },
        "id": "QnjrsKoiw2WG",
        "outputId": "6d95e4a7-2650-4821-ddf2-f01ec81771a5"
      },
      "execution_count": 2181,
      "outputs": [
        {
          "output_type": "execute_result",
          "data": {
            "text/plain": [
              "    0         1    2         3    4    5         6        7         8    9   \\\n",
              "0 -0.0 -5.302999 -0.0 -1.029493 -0.0 -0.0  8.007869  0.62155  8.262644 -0.0   \n",
              "1  0.0  5.302999  0.0  1.029493  0.0  0.0 -8.007869 -0.62155 -8.262644  0.0   \n",
              "2  0.0  5.302999  0.0  1.029493  0.0  0.0 -8.007869 -0.62155 -8.262644  0.0   \n",
              "3  0.0  5.302999  0.0  1.029493  0.0  0.0 -8.007869 -0.62155 -8.262644  0.0   \n",
              "4 -0.0 -5.302999 -0.0 -1.029493 -0.0 -0.0  8.007869  0.62155  8.262644 -0.0   \n",
              "\n",
              "   ...       90        91        92         93   94       95        96  \\\n",
              "0  ...  4.95448  8.113829 -5.106945 -10.410107 -0.0 -1.82363 -4.100732   \n",
              "1  ... -4.95448 -8.113829  5.106945  10.410107  0.0  1.82363  4.100732   \n",
              "2  ... -4.95448 -8.113829  5.106945  10.410107  0.0  1.82363  4.100732   \n",
              "3  ... -4.95448 -8.113829  5.106945  10.410107  0.0  1.82363  4.100732   \n",
              "4  ...  4.95448  8.113829 -5.106945 -10.410107 -0.0 -1.82363 -4.100732   \n",
              "\n",
              "         97        98        99  \n",
              "0 -4.915877 -2.378255  8.752061  \n",
              "1  4.915877  2.378255 -8.752061  \n",
              "2  4.915877  2.378255 -8.752061  \n",
              "3  4.915877  2.378255 -8.752061  \n",
              "4 -4.915877 -2.378255  8.752061  \n",
              "\n",
              "[5 rows x 100 columns]"
            ],
            "text/html": [
              "\n",
              "  <div id=\"df-b14e8c09-29d2-4961-a55c-eab7049c6fd9\">\n",
              "    <div class=\"colab-df-container\">\n",
              "      <div>\n",
              "<style scoped>\n",
              "    .dataframe tbody tr th:only-of-type {\n",
              "        vertical-align: middle;\n",
              "    }\n",
              "\n",
              "    .dataframe tbody tr th {\n",
              "        vertical-align: top;\n",
              "    }\n",
              "\n",
              "    .dataframe thead th {\n",
              "        text-align: right;\n",
              "    }\n",
              "</style>\n",
              "<table border=\"1\" class=\"dataframe\">\n",
              "  <thead>\n",
              "    <tr style=\"text-align: right;\">\n",
              "      <th></th>\n",
              "      <th>0</th>\n",
              "      <th>1</th>\n",
              "      <th>2</th>\n",
              "      <th>3</th>\n",
              "      <th>4</th>\n",
              "      <th>5</th>\n",
              "      <th>6</th>\n",
              "      <th>7</th>\n",
              "      <th>8</th>\n",
              "      <th>9</th>\n",
              "      <th>...</th>\n",
              "      <th>90</th>\n",
              "      <th>91</th>\n",
              "      <th>92</th>\n",
              "      <th>93</th>\n",
              "      <th>94</th>\n",
              "      <th>95</th>\n",
              "      <th>96</th>\n",
              "      <th>97</th>\n",
              "      <th>98</th>\n",
              "      <th>99</th>\n",
              "    </tr>\n",
              "  </thead>\n",
              "  <tbody>\n",
              "    <tr>\n",
              "      <th>0</th>\n",
              "      <td>-0.0</td>\n",
              "      <td>-5.302999</td>\n",
              "      <td>-0.0</td>\n",
              "      <td>-1.029493</td>\n",
              "      <td>-0.0</td>\n",
              "      <td>-0.0</td>\n",
              "      <td>8.007869</td>\n",
              "      <td>0.62155</td>\n",
              "      <td>8.262644</td>\n",
              "      <td>-0.0</td>\n",
              "      <td>...</td>\n",
              "      <td>4.95448</td>\n",
              "      <td>8.113829</td>\n",
              "      <td>-5.106945</td>\n",
              "      <td>-10.410107</td>\n",
              "      <td>-0.0</td>\n",
              "      <td>-1.82363</td>\n",
              "      <td>-4.100732</td>\n",
              "      <td>-4.915877</td>\n",
              "      <td>-2.378255</td>\n",
              "      <td>8.752061</td>\n",
              "    </tr>\n",
              "    <tr>\n",
              "      <th>1</th>\n",
              "      <td>0.0</td>\n",
              "      <td>5.302999</td>\n",
              "      <td>0.0</td>\n",
              "      <td>1.029493</td>\n",
              "      <td>0.0</td>\n",
              "      <td>0.0</td>\n",
              "      <td>-8.007869</td>\n",
              "      <td>-0.62155</td>\n",
              "      <td>-8.262644</td>\n",
              "      <td>0.0</td>\n",
              "      <td>...</td>\n",
              "      <td>-4.95448</td>\n",
              "      <td>-8.113829</td>\n",
              "      <td>5.106945</td>\n",
              "      <td>10.410107</td>\n",
              "      <td>0.0</td>\n",
              "      <td>1.82363</td>\n",
              "      <td>4.100732</td>\n",
              "      <td>4.915877</td>\n",
              "      <td>2.378255</td>\n",
              "      <td>-8.752061</td>\n",
              "    </tr>\n",
              "    <tr>\n",
              "      <th>2</th>\n",
              "      <td>0.0</td>\n",
              "      <td>5.302999</td>\n",
              "      <td>0.0</td>\n",
              "      <td>1.029493</td>\n",
              "      <td>0.0</td>\n",
              "      <td>0.0</td>\n",
              "      <td>-8.007869</td>\n",
              "      <td>-0.62155</td>\n",
              "      <td>-8.262644</td>\n",
              "      <td>0.0</td>\n",
              "      <td>...</td>\n",
              "      <td>-4.95448</td>\n",
              "      <td>-8.113829</td>\n",
              "      <td>5.106945</td>\n",
              "      <td>10.410107</td>\n",
              "      <td>0.0</td>\n",
              "      <td>1.82363</td>\n",
              "      <td>4.100732</td>\n",
              "      <td>4.915877</td>\n",
              "      <td>2.378255</td>\n",
              "      <td>-8.752061</td>\n",
              "    </tr>\n",
              "    <tr>\n",
              "      <th>3</th>\n",
              "      <td>0.0</td>\n",
              "      <td>5.302999</td>\n",
              "      <td>0.0</td>\n",
              "      <td>1.029493</td>\n",
              "      <td>0.0</td>\n",
              "      <td>0.0</td>\n",
              "      <td>-8.007869</td>\n",
              "      <td>-0.62155</td>\n",
              "      <td>-8.262644</td>\n",
              "      <td>0.0</td>\n",
              "      <td>...</td>\n",
              "      <td>-4.95448</td>\n",
              "      <td>-8.113829</td>\n",
              "      <td>5.106945</td>\n",
              "      <td>10.410107</td>\n",
              "      <td>0.0</td>\n",
              "      <td>1.82363</td>\n",
              "      <td>4.100732</td>\n",
              "      <td>4.915877</td>\n",
              "      <td>2.378255</td>\n",
              "      <td>-8.752061</td>\n",
              "    </tr>\n",
              "    <tr>\n",
              "      <th>4</th>\n",
              "      <td>-0.0</td>\n",
              "      <td>-5.302999</td>\n",
              "      <td>-0.0</td>\n",
              "      <td>-1.029493</td>\n",
              "      <td>-0.0</td>\n",
              "      <td>-0.0</td>\n",
              "      <td>8.007869</td>\n",
              "      <td>0.62155</td>\n",
              "      <td>8.262644</td>\n",
              "      <td>-0.0</td>\n",
              "      <td>...</td>\n",
              "      <td>4.95448</td>\n",
              "      <td>8.113829</td>\n",
              "      <td>-5.106945</td>\n",
              "      <td>-10.410107</td>\n",
              "      <td>-0.0</td>\n",
              "      <td>-1.82363</td>\n",
              "      <td>-4.100732</td>\n",
              "      <td>-4.915877</td>\n",
              "      <td>-2.378255</td>\n",
              "      <td>8.752061</td>\n",
              "    </tr>\n",
              "  </tbody>\n",
              "</table>\n",
              "<p>5 rows × 100 columns</p>\n",
              "</div>\n",
              "      <button class=\"colab-df-convert\" onclick=\"convertToInteractive('df-b14e8c09-29d2-4961-a55c-eab7049c6fd9')\"\n",
              "              title=\"Convert this dataframe to an interactive table.\"\n",
              "              style=\"display:none;\">\n",
              "        \n",
              "  <svg xmlns=\"http://www.w3.org/2000/svg\" height=\"24px\"viewBox=\"0 0 24 24\"\n",
              "       width=\"24px\">\n",
              "    <path d=\"M0 0h24v24H0V0z\" fill=\"none\"/>\n",
              "    <path d=\"M18.56 5.44l.94 2.06.94-2.06 2.06-.94-2.06-.94-.94-2.06-.94 2.06-2.06.94zm-11 1L8.5 8.5l.94-2.06 2.06-.94-2.06-.94L8.5 2.5l-.94 2.06-2.06.94zm10 10l.94 2.06.94-2.06 2.06-.94-2.06-.94-.94-2.06-.94 2.06-2.06.94z\"/><path d=\"M17.41 7.96l-1.37-1.37c-.4-.4-.92-.59-1.43-.59-.52 0-1.04.2-1.43.59L10.3 9.45l-7.72 7.72c-.78.78-.78 2.05 0 2.83L4 21.41c.39.39.9.59 1.41.59.51 0 1.02-.2 1.41-.59l7.78-7.78 2.81-2.81c.8-.78.8-2.07 0-2.86zM5.41 20L4 18.59l7.72-7.72 1.47 1.35L5.41 20z\"/>\n",
              "  </svg>\n",
              "      </button>\n",
              "      \n",
              "  <style>\n",
              "    .colab-df-container {\n",
              "      display:flex;\n",
              "      flex-wrap:wrap;\n",
              "      gap: 12px;\n",
              "    }\n",
              "\n",
              "    .colab-df-convert {\n",
              "      background-color: #E8F0FE;\n",
              "      border: none;\n",
              "      border-radius: 50%;\n",
              "      cursor: pointer;\n",
              "      display: none;\n",
              "      fill: #1967D2;\n",
              "      height: 32px;\n",
              "      padding: 0 0 0 0;\n",
              "      width: 32px;\n",
              "    }\n",
              "\n",
              "    .colab-df-convert:hover {\n",
              "      background-color: #E2EBFA;\n",
              "      box-shadow: 0px 1px 2px rgba(60, 64, 67, 0.3), 0px 1px 3px 1px rgba(60, 64, 67, 0.15);\n",
              "      fill: #174EA6;\n",
              "    }\n",
              "\n",
              "    [theme=dark] .colab-df-convert {\n",
              "      background-color: #3B4455;\n",
              "      fill: #D2E3FC;\n",
              "    }\n",
              "\n",
              "    [theme=dark] .colab-df-convert:hover {\n",
              "      background-color: #434B5C;\n",
              "      box-shadow: 0px 1px 3px 1px rgba(0, 0, 0, 0.15);\n",
              "      filter: drop-shadow(0px 1px 2px rgba(0, 0, 0, 0.3));\n",
              "      fill: #FFFFFF;\n",
              "    }\n",
              "  </style>\n",
              "\n",
              "      <script>\n",
              "        const buttonEl =\n",
              "          document.querySelector('#df-b14e8c09-29d2-4961-a55c-eab7049c6fd9 button.colab-df-convert');\n",
              "        buttonEl.style.display =\n",
              "          google.colab.kernel.accessAllowed ? 'block' : 'none';\n",
              "\n",
              "        async function convertToInteractive(key) {\n",
              "          const element = document.querySelector('#df-b14e8c09-29d2-4961-a55c-eab7049c6fd9');\n",
              "          const dataTable =\n",
              "            await google.colab.kernel.invokeFunction('convertToInteractive',\n",
              "                                                     [key], {});\n",
              "          if (!dataTable) return;\n",
              "\n",
              "          const docLinkHtml = 'Like what you see? Visit the ' +\n",
              "            '<a target=\"_blank\" href=https://colab.research.google.com/notebooks/data_table.ipynb>data table notebook</a>'\n",
              "            + ' to learn more about interactive tables.';\n",
              "          element.innerHTML = '';\n",
              "          dataTable['output_type'] = 'display_data';\n",
              "          await google.colab.output.renderOutput(dataTable, element);\n",
              "          const docLink = document.createElement('div');\n",
              "          docLink.innerHTML = docLinkHtml;\n",
              "          element.appendChild(docLink);\n",
              "        }\n",
              "      </script>\n",
              "    </div>\n",
              "  </div>\n",
              "  "
            ]
          },
          "metadata": {},
          "execution_count": 2181
        }
      ]
    },
    {
      "cell_type": "code",
      "source": [
        "dW1 =  true_dw.iloc[:14].dropna(axis=1).to_numpy()\n",
        "db1 = true_db.iloc[0].dropna().to_numpy().reshape(100, 1)\n",
        "dW2 =  true_dw.iloc[14:114].dropna(axis=1).to_numpy()\n",
        "db2 = true_db.iloc[1].dropna().to_numpy().reshape(40, 1)\n",
        "dW3 =  true_dw.iloc[114:154].dropna(axis=1).to_numpy()\n",
        "db3 = true_db.iloc[2].dropna().to_numpy().reshape(4, 1)"
      ],
      "metadata": {
        "id": "WiQUcXNMw7Z7"
      },
      "execution_count": 2182,
      "outputs": []
    },
    {
      "cell_type": "code",
      "source": [
        "grads[2].T"
      ],
      "metadata": {
        "colab": {
          "base_uri": "https://localhost:8080/"
        },
        "id": "L8QF9TSeytzK",
        "outputId": "3bedf98c-2cfc-463e-983f-0a965b0005de"
      },
      "execution_count": 2183,
      "outputs": [
        {
          "output_type": "execute_result",
          "data": {
            "text/plain": [
              "array([[0.0000000000000000, 0.0000000000000000, 0.0000000000000000, ...,\n",
              "        0.0000000000000000, 0.0000000000000000, 0.0000000000000000],\n",
              "       [-2.3095391818072613, 0.0000000000000000, 2.7248771225564767, ...,\n",
              "        -0.7291543779455072, 0.0000000000000000, 0.0000000000000000],\n",
              "       [0.0000000000000000, 0.0000000000000000, 0.0000000000000000, ...,\n",
              "        0.0000000000000000, 0.0000000000000000, 0.0000000000000000],\n",
              "       ...,\n",
              "       [-1.6515336031475980, 0.0000000000000000, 1.9485385516727360, ...,\n",
              "        -0.5214126551933447, 0.0000000000000000, 0.0000000000000000],\n",
              "       [-0.3128928709826844, 0.0000000000000000, 0.3691622262431414, ...,\n",
              "        -0.0987847309550441, 0.0000000000000000, 0.0000000000000000],\n",
              "       [-0.1276365392150431, 0.0000000000000000, 0.1505901646739752, ...,\n",
              "        -0.0402966713392736, 0.0000000000000000, 0.0000000000000000]])"
            ]
          },
          "metadata": {},
          "execution_count": 2183
        }
      ]
    },
    {
      "cell_type": "code",
      "source": [
        "dW2"
      ],
      "metadata": {
        "colab": {
          "base_uri": "https://localhost:8080/"
        },
        "id": "hrbkBRIOy59E",
        "outputId": "abf7f608-9871-4ec0-a6ba-c333f17145ed"
      },
      "execution_count": 2184,
      "outputs": [
        {
          "output_type": "execute_result",
          "data": {
            "text/plain": [
              "array([[0.0000000000000000, 0.0000000000000000, 0.0000000000000000, ...,\n",
              "        0.0000000000000000, 0.0000000000000000, 0.0000000000000000],\n",
              "       [-2.3095391818072617, 0.0000000000000000, 2.7248771225564767, ...,\n",
              "        -0.7291543779455072, 0.0000000000000000, 0.0000000000000000],\n",
              "       [0.0000000000000000, 0.0000000000000000, 0.0000000000000000, ...,\n",
              "        0.0000000000000000, 0.0000000000000000, 0.0000000000000000],\n",
              "       ...,\n",
              "       [-1.6515336031475982, 0.0000000000000000, 1.9485385516727360, ...,\n",
              "        -0.5214126551933447, 0.0000000000000000, 0.0000000000000000],\n",
              "       [-0.3128928709826848, 0.0000000000000000, 0.3691622262431419, ...,\n",
              "        -0.0987847309550442, 0.0000000000000000, 0.0000000000000000],\n",
              "       [-0.1276365392150431, 0.0000000000000000, 0.1505901646739753, ...,\n",
              "        -0.0402966713392736, 0.0000000000000000, 0.0000000000000000]])"
            ]
          },
          "metadata": {},
          "execution_count": 2184
        }
      ]
    },
    {
      "cell_type": "markdown",
      "source": [
        "---"
      ],
      "metadata": {
        "id": "F_-VOidWMziG"
      }
    },
    {
      "cell_type": "markdown",
      "source": [
        "## Task_1/b"
      ],
      "metadata": {
        "id": "YK8e-RKkM00i"
      }
    },
    {
      "cell_type": "code",
      "source": [
        "w = pd.read_csv('/content/drive/MyDrive/Datasets/SEM5_Deep_Learning_Ass_1/Task_1/b/w-100-40-4.csv', header=None)\n",
        "b = pd.read_csv('/content/drive/MyDrive/Datasets/SEM5_Deep_Learning_Ass_1/Task_1/b/b-100-40-4.csv', header=None)\n",
        "w.drop(0, axis=1, inplace=True)\n",
        "b.drop(0, axis=1, inplace=True)"
      ],
      "metadata": {
        "id": "gs9iS3hMM3oa"
      },
      "execution_count": 2185,
      "outputs": []
    },
    {
      "cell_type": "code",
      "source": [
        "model = Model(weights=w, biases=b, random=False)"
      ],
      "metadata": {
        "id": "cTKnVWNq2DjW"
      },
      "execution_count": 2186,
      "outputs": []
    },
    {
      "cell_type": "code",
      "source": [
        "output = model.grad_dec(X, Y, n_iterations=1)\n",
        "params, grads, cost = output[0], output[1], output[2]\n",
        "print(cost)"
      ],
      "metadata": {
        "colab": {
          "base_uri": "https://localhost:8080/"
        },
        "id": "OuBvC7V92Jow",
        "outputId": "659acfcb-dabb-449a-d606-87ee622787d8"
      },
      "execution_count": 2187,
      "outputs": [
        {
          "output_type": "stream",
          "name": "stdout",
          "text": [
            "1.1102230246251565e-16\n"
          ]
        }
      ]
    },
    {
      "cell_type": "code",
      "source": [
        "write_w_list = []\n",
        "write_b_list = []\n",
        "\n",
        "for i in range(0, 6, 2):\n",
        "  write_w_list.append(pd.DataFrame(np.round(grads[i].T, 16)))\n",
        "  write_b_list.append(pd.DataFrame(np.round(grads[i+1].T, 16)))\n",
        "\n",
        "pd.concat(write_w_list).to_csv(\"dw.csv\", header=False, index=False)\n",
        "pd.concat(write_b_list).to_csv(\"db.csv\", header=False, index=False)"
      ],
      "metadata": {
        "id": "ur4XtCzp2tw0"
      },
      "execution_count": 2188,
      "outputs": []
    },
    {
      "cell_type": "markdown",
      "source": [
        "---"
      ],
      "metadata": {
        "id": "T9Ka-wMBM4Gj"
      }
    },
    {
      "cell_type": "markdown",
      "source": [
        "## Task_2"
      ],
      "metadata": {
        "id": "CisIstbAM5kV"
      }
    },
    {
      "cell_type": "code",
      "source": [
        "X_train = pd.read_csv('/content/drive/MyDrive/Datasets/SEM5_Deep_Learning_Ass_1/Task_2/x_train.csv', header=None)\n",
        "Y_train = pd.read_csv('/content/drive/MyDrive/Datasets/SEM5_Deep_Learning_Ass_1/Task_2/y_train.csv', header=None)\n",
        "X_test = pd.read_csv('/content/drive/MyDrive/Datasets/SEM5_Deep_Learning_Ass_1/Task_2/x_test.csv', header=None)\n",
        "Y_test = pd.read_csv('/content/drive/MyDrive/Datasets/SEM5_Deep_Learning_Ass_1/Task_2/y_test.csv', header=None)"
      ],
      "metadata": {
        "id": "cP7UqEELNCLy"
      },
      "execution_count": 2189,
      "outputs": []
    },
    {
      "cell_type": "code",
      "source": [
        "X_train.head()"
      ],
      "metadata": {
        "colab": {
          "base_uri": "https://localhost:8080/",
          "height": 206
        },
        "id": "fZG7NIQEHxQv",
        "outputId": "fae1f82e-2ecb-4b89-9c47-6a0d6a7a2dbd"
      },
      "execution_count": 2190,
      "outputs": [
        {
          "output_type": "execute_result",
          "data": {
            "text/plain": [
              "   0   1   2   3   4   5   6   7   8   9   10  11  12  13\n",
              "0  -1  -1   1  -1   1  -1   1   1   1   1  -1   1  -1   1\n",
              "1   1   1  -1  -1  -1   1   1   1  -1  -1   1  -1   1  -1\n",
              "2  -1  -1  -1   1   1  -1  -1  -1  -1  -1   1  -1   1   1\n",
              "3   1   1   1   1  -1   1  -1  -1   1  -1   1  -1  -1  -1\n",
              "4  -1  -1  -1  -1  -1  -1  -1   1  -1   1   1  -1   1   1"
            ],
            "text/html": [
              "\n",
              "  <div id=\"df-5bb59800-653b-405e-9571-437388ae35d0\">\n",
              "    <div class=\"colab-df-container\">\n",
              "      <div>\n",
              "<style scoped>\n",
              "    .dataframe tbody tr th:only-of-type {\n",
              "        vertical-align: middle;\n",
              "    }\n",
              "\n",
              "    .dataframe tbody tr th {\n",
              "        vertical-align: top;\n",
              "    }\n",
              "\n",
              "    .dataframe thead th {\n",
              "        text-align: right;\n",
              "    }\n",
              "</style>\n",
              "<table border=\"1\" class=\"dataframe\">\n",
              "  <thead>\n",
              "    <tr style=\"text-align: right;\">\n",
              "      <th></th>\n",
              "      <th>0</th>\n",
              "      <th>1</th>\n",
              "      <th>2</th>\n",
              "      <th>3</th>\n",
              "      <th>4</th>\n",
              "      <th>5</th>\n",
              "      <th>6</th>\n",
              "      <th>7</th>\n",
              "      <th>8</th>\n",
              "      <th>9</th>\n",
              "      <th>10</th>\n",
              "      <th>11</th>\n",
              "      <th>12</th>\n",
              "      <th>13</th>\n",
              "    </tr>\n",
              "  </thead>\n",
              "  <tbody>\n",
              "    <tr>\n",
              "      <th>0</th>\n",
              "      <td>-1</td>\n",
              "      <td>-1</td>\n",
              "      <td>1</td>\n",
              "      <td>-1</td>\n",
              "      <td>1</td>\n",
              "      <td>-1</td>\n",
              "      <td>1</td>\n",
              "      <td>1</td>\n",
              "      <td>1</td>\n",
              "      <td>1</td>\n",
              "      <td>-1</td>\n",
              "      <td>1</td>\n",
              "      <td>-1</td>\n",
              "      <td>1</td>\n",
              "    </tr>\n",
              "    <tr>\n",
              "      <th>1</th>\n",
              "      <td>1</td>\n",
              "      <td>1</td>\n",
              "      <td>-1</td>\n",
              "      <td>-1</td>\n",
              "      <td>-1</td>\n",
              "      <td>1</td>\n",
              "      <td>1</td>\n",
              "      <td>1</td>\n",
              "      <td>-1</td>\n",
              "      <td>-1</td>\n",
              "      <td>1</td>\n",
              "      <td>-1</td>\n",
              "      <td>1</td>\n",
              "      <td>-1</td>\n",
              "    </tr>\n",
              "    <tr>\n",
              "      <th>2</th>\n",
              "      <td>-1</td>\n",
              "      <td>-1</td>\n",
              "      <td>-1</td>\n",
              "      <td>1</td>\n",
              "      <td>1</td>\n",
              "      <td>-1</td>\n",
              "      <td>-1</td>\n",
              "      <td>-1</td>\n",
              "      <td>-1</td>\n",
              "      <td>-1</td>\n",
              "      <td>1</td>\n",
              "      <td>-1</td>\n",
              "      <td>1</td>\n",
              "      <td>1</td>\n",
              "    </tr>\n",
              "    <tr>\n",
              "      <th>3</th>\n",
              "      <td>1</td>\n",
              "      <td>1</td>\n",
              "      <td>1</td>\n",
              "      <td>1</td>\n",
              "      <td>-1</td>\n",
              "      <td>1</td>\n",
              "      <td>-1</td>\n",
              "      <td>-1</td>\n",
              "      <td>1</td>\n",
              "      <td>-1</td>\n",
              "      <td>1</td>\n",
              "      <td>-1</td>\n",
              "      <td>-1</td>\n",
              "      <td>-1</td>\n",
              "    </tr>\n",
              "    <tr>\n",
              "      <th>4</th>\n",
              "      <td>-1</td>\n",
              "      <td>-1</td>\n",
              "      <td>-1</td>\n",
              "      <td>-1</td>\n",
              "      <td>-1</td>\n",
              "      <td>-1</td>\n",
              "      <td>-1</td>\n",
              "      <td>1</td>\n",
              "      <td>-1</td>\n",
              "      <td>1</td>\n",
              "      <td>1</td>\n",
              "      <td>-1</td>\n",
              "      <td>1</td>\n",
              "      <td>1</td>\n",
              "    </tr>\n",
              "  </tbody>\n",
              "</table>\n",
              "</div>\n",
              "      <button class=\"colab-df-convert\" onclick=\"convertToInteractive('df-5bb59800-653b-405e-9571-437388ae35d0')\"\n",
              "              title=\"Convert this dataframe to an interactive table.\"\n",
              "              style=\"display:none;\">\n",
              "        \n",
              "  <svg xmlns=\"http://www.w3.org/2000/svg\" height=\"24px\"viewBox=\"0 0 24 24\"\n",
              "       width=\"24px\">\n",
              "    <path d=\"M0 0h24v24H0V0z\" fill=\"none\"/>\n",
              "    <path d=\"M18.56 5.44l.94 2.06.94-2.06 2.06-.94-2.06-.94-.94-2.06-.94 2.06-2.06.94zm-11 1L8.5 8.5l.94-2.06 2.06-.94-2.06-.94L8.5 2.5l-.94 2.06-2.06.94zm10 10l.94 2.06.94-2.06 2.06-.94-2.06-.94-.94-2.06-.94 2.06-2.06.94z\"/><path d=\"M17.41 7.96l-1.37-1.37c-.4-.4-.92-.59-1.43-.59-.52 0-1.04.2-1.43.59L10.3 9.45l-7.72 7.72c-.78.78-.78 2.05 0 2.83L4 21.41c.39.39.9.59 1.41.59.51 0 1.02-.2 1.41-.59l7.78-7.78 2.81-2.81c.8-.78.8-2.07 0-2.86zM5.41 20L4 18.59l7.72-7.72 1.47 1.35L5.41 20z\"/>\n",
              "  </svg>\n",
              "      </button>\n",
              "      \n",
              "  <style>\n",
              "    .colab-df-container {\n",
              "      display:flex;\n",
              "      flex-wrap:wrap;\n",
              "      gap: 12px;\n",
              "    }\n",
              "\n",
              "    .colab-df-convert {\n",
              "      background-color: #E8F0FE;\n",
              "      border: none;\n",
              "      border-radius: 50%;\n",
              "      cursor: pointer;\n",
              "      display: none;\n",
              "      fill: #1967D2;\n",
              "      height: 32px;\n",
              "      padding: 0 0 0 0;\n",
              "      width: 32px;\n",
              "    }\n",
              "\n",
              "    .colab-df-convert:hover {\n",
              "      background-color: #E2EBFA;\n",
              "      box-shadow: 0px 1px 2px rgba(60, 64, 67, 0.3), 0px 1px 3px 1px rgba(60, 64, 67, 0.15);\n",
              "      fill: #174EA6;\n",
              "    }\n",
              "\n",
              "    [theme=dark] .colab-df-convert {\n",
              "      background-color: #3B4455;\n",
              "      fill: #D2E3FC;\n",
              "    }\n",
              "\n",
              "    [theme=dark] .colab-df-convert:hover {\n",
              "      background-color: #434B5C;\n",
              "      box-shadow: 0px 1px 3px 1px rgba(0, 0, 0, 0.15);\n",
              "      filter: drop-shadow(0px 1px 2px rgba(0, 0, 0, 0.3));\n",
              "      fill: #FFFFFF;\n",
              "    }\n",
              "  </style>\n",
              "\n",
              "      <script>\n",
              "        const buttonEl =\n",
              "          document.querySelector('#df-5bb59800-653b-405e-9571-437388ae35d0 button.colab-df-convert');\n",
              "        buttonEl.style.display =\n",
              "          google.colab.kernel.accessAllowed ? 'block' : 'none';\n",
              "\n",
              "        async function convertToInteractive(key) {\n",
              "          const element = document.querySelector('#df-5bb59800-653b-405e-9571-437388ae35d0');\n",
              "          const dataTable =\n",
              "            await google.colab.kernel.invokeFunction('convertToInteractive',\n",
              "                                                     [key], {});\n",
              "          if (!dataTable) return;\n",
              "\n",
              "          const docLinkHtml = 'Like what you see? Visit the ' +\n",
              "            '<a target=\"_blank\" href=https://colab.research.google.com/notebooks/data_table.ipynb>data table notebook</a>'\n",
              "            + ' to learn more about interactive tables.';\n",
              "          element.innerHTML = '';\n",
              "          dataTable['output_type'] = 'display_data';\n",
              "          await google.colab.output.renderOutput(dataTable, element);\n",
              "          const docLink = document.createElement('div');\n",
              "          docLink.innerHTML = docLinkHtml;\n",
              "          element.appendChild(docLink);\n",
              "        }\n",
              "      </script>\n",
              "    </div>\n",
              "  </div>\n",
              "  "
            ]
          },
          "metadata": {},
          "execution_count": 2190
        }
      ]
    },
    {
      "cell_type": "code",
      "source": [
        "X = X_train.to_numpy().T\n",
        "X.shape"
      ],
      "metadata": {
        "colab": {
          "base_uri": "https://localhost:8080/"
        },
        "id": "sNfG4oyN1mBo",
        "outputId": "33216560-df7a-42b0-f71b-8d4bc285fe7b"
      },
      "execution_count": 2191,
      "outputs": [
        {
          "output_type": "execute_result",
          "data": {
            "text/plain": [
              "(14, 13107)"
            ]
          },
          "metadata": {},
          "execution_count": 2191
        }
      ]
    },
    {
      "cell_type": "code",
      "source": [
        "Y = ohe.fit_transform(Y_train).toarray().T\n",
        "Y.shape"
      ],
      "metadata": {
        "colab": {
          "base_uri": "https://localhost:8080/"
        },
        "id": "Q9QqgiLb1o75",
        "outputId": "836ac4ce-9d15-4120-a18f-d493c966a13d"
      },
      "execution_count": 2192,
      "outputs": [
        {
          "output_type": "execute_result",
          "data": {
            "text/plain": [
              "(4, 13107)"
            ]
          },
          "metadata": {},
          "execution_count": 2192
        }
      ]
    },
    {
      "cell_type": "code",
      "source": [
        "X_test = X_test.to_numpy().T\n",
        "X_test.shape"
      ],
      "metadata": {
        "colab": {
          "base_uri": "https://localhost:8080/"
        },
        "id": "aSoxfI2K1wFZ",
        "outputId": "0a50c157-708f-4d78-bb27-2bbe09eba45b"
      },
      "execution_count": 2193,
      "outputs": [
        {
          "output_type": "execute_result",
          "data": {
            "text/plain": [
              "(14, 3277)"
            ]
          },
          "metadata": {},
          "execution_count": 2193
        }
      ]
    },
    {
      "cell_type": "code",
      "source": [
        "Y_test = np.squeeze(Y_test.to_numpy())\n",
        "Y_test = Y_test.reshape(Y_test.shape[0], 1)\n",
        "Y_test.shape"
      ],
      "metadata": {
        "colab": {
          "base_uri": "https://localhost:8080/"
        },
        "id": "mwuVWhK811HK",
        "outputId": "52c9b745-3120-47db-afb6-05204e5d6f0e"
      },
      "execution_count": 2194,
      "outputs": [
        {
          "output_type": "execute_result",
          "data": {
            "text/plain": [
              "(3277, 1)"
            ]
          },
          "metadata": {},
          "execution_count": 2194
        }
      ]
    },
    {
      "cell_type": "code",
      "source": [
        "Y_test_enc = ohe.fit_transform(Y_test).toarray().T"
      ],
      "metadata": {
        "id": "lKq5_Pgj1920"
      },
      "execution_count": 2195,
      "outputs": []
    },
    {
      "cell_type": "code",
      "source": [
        "Y_test_enc"
      ],
      "metadata": {
        "colab": {
          "base_uri": "https://localhost:8080/"
        },
        "id": "EO10cfXtIE7I",
        "outputId": "7544d5be-6a9a-498c-bcea-de7772f3ccf4"
      },
      "execution_count": 2196,
      "outputs": [
        {
          "output_type": "execute_result",
          "data": {
            "text/plain": [
              "array([[0.0000000000000000, 0.0000000000000000, 0.0000000000000000, ...,\n",
              "        0.0000000000000000, 0.0000000000000000, 1.0000000000000000],\n",
              "       [0.0000000000000000, 0.0000000000000000, 0.0000000000000000, ...,\n",
              "        1.0000000000000000, 1.0000000000000000, 0.0000000000000000],\n",
              "       [1.0000000000000000, 0.0000000000000000, 0.0000000000000000, ...,\n",
              "        0.0000000000000000, 0.0000000000000000, 0.0000000000000000],\n",
              "       [0.0000000000000000, 1.0000000000000000, 1.0000000000000000, ...,\n",
              "        0.0000000000000000, 0.0000000000000000, 0.0000000000000000]])"
            ]
          },
          "metadata": {},
          "execution_count": 2196
        }
      ]
    },
    {
      "cell_type": "code",
      "source": [
        "params = default__init__()"
      ],
      "metadata": {
        "id": "WZgQaz0uNWM5"
      },
      "execution_count": 2197,
      "outputs": []
    },
    {
      "cell_type": "code",
      "source": [
        "fig, axes = plt.subplots(1, 4, figsize=(20, 30))\n",
        "\n",
        "costs = []\n",
        "accuracy = []\n",
        "costs_test = []\n",
        "accuracy_test = []\n",
        "\n",
        "n_iterations = 10000\n",
        "learning_rate = 1\n",
        "\n",
        "for i in tqdm(range(n_iterations)):\n",
        "  values = forward_propagation(X, params)\n",
        "  grads = backward_propagation(params, values, Y)\n",
        "  cost = find_cost(values[-1], Y)\n",
        "  costs.append(cost)\n",
        "  \n",
        "  Y_pred = values[-1]\n",
        "  Y_pred = ohe.inverse_transform(Y_pred.T)\n",
        "  Y_inv = ohe.inverse_transform(Y.T)\n",
        "  accuracy.append(accuracy_score(Y_inv, Y_pred))\n",
        "\n",
        "  Y_test_pred = forward_propagation(X_test, params)[-1]\n",
        "  costs_test.append(find_cost(Y_test_pred, Y_test_enc))\n",
        "  Y_test_pred = ohe.inverse_transform(Y_test_pred.T)\n",
        "  Y_test_pred = Y_test_pred.reshape(Y_test_pred.shape[0], 1)\n",
        "  accuracy_test.append(accuracy_score(Y_test, Y_test_pred))\n",
        "\n",
        "  params = update_params(params, learning_rate, grads)\n",
        "\n",
        "axes[0].plot(costs, color='red')\n",
        "axes[0].set_xlabel(\"No. of iterations\")\n",
        "axes[0].set_ylabel(\"Training Cost\")\n",
        "axes[0].set_title(\"Iteration vs Cost for learning rate = \" + str(learning_rate))\n",
        "# axes[0].show()\n",
        "\n",
        "axes[1].plot(costs_test, color='green')\n",
        "axes[1].set_xlabel(\"No. of iterations\")\n",
        "axes[1].set_ylabel(\"Testing Cost\")\n",
        "axes[1].set_title(\"Iteration vs Cost for learning rate = \" + str(learning_rate))\n",
        "# axes[1].show()\n",
        "\n",
        "axes[2].plot(accuracy, color='red')\n",
        "axes[2].set_xlabel(\"No. of iterations\")\n",
        "axes[2].set_ylabel(\"Training Accuracy\")\n",
        "axes[2].set_title(\"Training accuracy vs iterations for learning rate = \" + str(learning_rate))\n",
        "# axes[2].show()\n",
        "\n",
        "axes[3].plot(accuracy_test, color='green')\n",
        "axes[3].set_xlabel(\"No. of iterations\")\n",
        "axes[3].set_ylabel(\"Testing Accuracy\")\n",
        "axes[3].set_title(\"Testing accuracy vs iteration for learning rate = \" + str(learning_rate))\n",
        "# axes[3].show()"
      ],
      "metadata": {
        "colab": {
          "base_uri": "https://localhost:8080/",
          "height": 1000
        },
        "id": "8BD0hbFh2i1-",
        "outputId": "97fc5294-88e2-4623-abef-a0879b4226f1"
      },
      "execution_count": 2201,
      "outputs": [
        {
          "output_type": "stream",
          "name": "stderr",
          "text": [
            "100%|██████████| 10000/10000 [13:24<00:00, 12.43it/s]\n"
          ]
        },
        {
          "output_type": "execute_result",
          "data": {
            "text/plain": [
              "Text(0.5, 1.0, 'Testing accuracy vs iteration for learning rate = 1')"
            ]
          },
          "metadata": {},
          "execution_count": 2201
        },
        {
          "output_type": "display_data",
          "data": {
            "text/plain": [
              "<Figure size 1440x2160 with 4 Axes>"
            ],
            "image/png": "[encoded data removed]"
          },
          "metadata": {
            "needs_background": "light"
          }
        }
      ]
    },
    {
      "cell_type": "markdown",
      "source": [
        "### learning rate = *0.1*"
      ],
      "metadata": {
        "id": "d5Pp3PBQM2ew"
      }
    },
    {
      "cell_type": "code",
      "source": [
        "fig, axes = plt.subplots(1, 4, figsize=(20, 30))\n",
        "\n",
        "costs = []\n",
        "accuracy = []\n",
        "costs_test = []\n",
        "accuracy_test = []\n",
        "\n",
        "n_iterations = 10000\n",
        "learning_rate = 0.1\n",
        "\n",
        "for i in tqdm(range(n_iterations)):\n",
        "  values = forward_propagation(X, params)\n",
        "  grads = backward_propagation(params, values, Y)\n",
        "  cost = find_cost(values[-1], Y)\n",
        "  costs.append(cost)\n",
        "  \n",
        "  Y_pred = values[-1]\n",
        "  Y_pred = ohe.inverse_transform(Y_pred.T)\n",
        "  Y_inv = ohe.inverse_transform(Y.T)\n",
        "  accuracy.append(accuracy_score(Y_inv, Y_pred))\n",
        "\n",
        "  Y_test_pred = forward_propagation(X_test, params)[-1]\n",
        "  costs_test.append(find_cost(Y_test_pred, Y_test_enc))\n",
        "  Y_test_pred = ohe.inverse_transform(Y_test_pred.T)\n",
        "  Y_test_pred = Y_test_pred.reshape(Y_test_pred.shape[0], 1)\n",
        "  accuracy_test.append(accuracy_score(Y_test, Y_test_pred))\n",
        "\n",
        "  params = update_params(params, learning_rate, grads)\n",
        "\n",
        "axes[0].plot(costs, color='red')\n",
        "axes[0].set_xlabel(\"No. of iterations\")\n",
        "axes[0].set_ylabel(\"Training Cost\")\n",
        "axes[0].set_title(\"Iteration vs Cost for learning rate = \" + str(learning_rate))\n",
        "# axes[0].show()\n",
        "\n",
        "axes[1].plot(costs_test, color='green')\n",
        "axes[1].set_xlabel(\"No. of iterations\")\n",
        "axes[1].set_ylabel(\"Testing Cost\")\n",
        "axes[1].set_title(\"Iteration vs Cost for learning rate = \" + str(learning_rate))\n",
        "# axes[1].show()\n",
        "\n",
        "axes[2].plot(accuracy, color='red')\n",
        "axes[2].set_xlabel(\"No. of iterations\")\n",
        "axes[2].set_ylabel(\"Training Accuracy\")\n",
        "axes[2].set_title(\"Training accuracy vs iterations for learning rate = \" + str(learning_rate))\n",
        "# axes[2].show()\n",
        "\n",
        "axes[3].plot(accuracy_test, color='green')\n",
        "axes[3].set_xlabel(\"No. of iterations\")\n",
        "axes[3].set_ylabel(\"Testing Accuracy\")\n",
        "axes[3].set_title(\"Testing accuracy vs iteration for learning rate = \" + str(learning_rate))\n",
        "# axes[3].show()"
      ],
      "metadata": {
        "id": "xrZfoMtJMufC",
        "colab": {
          "base_uri": "https://localhost:8080/",
          "height": 1000
        },
        "outputId": "bd6bb281-f101-4aaf-8a93-a7195dd21949"
      },
      "execution_count": 2202,
      "outputs": [
        {
          "output_type": "stream",
          "name": "stderr",
          "text": [
            "100%|██████████| 10000/10000 [13:45<00:00, 12.11it/s]\n"
          ]
        },
        {
          "output_type": "execute_result",
          "data": {
            "text/plain": [
              "Text(0.5, 1.0, 'Testing accuracy vs iteration for learning rate = 0.1')"
            ]
          },
          "metadata": {},
          "execution_count": 2202
        },
        {
          "output_type": "display_data",
          "data": {
            "text/plain": [
              "<Figure size 1440x2160 with 4 Axes>"
            ],
            "image/png": "[encoded data removed]"
          },
          "metadata": {
            "needs_background": "light"
          }
        }
      ]
    },
    {
      "cell_type": "markdown",
      "source": [
        "### learning rate = *0.001*"
      ],
      "metadata": {
        "id": "cdkCXZQXM-H1"
      }
    },
    {
      "cell_type": "code",
      "source": [
        "fig, axes = plt.subplots(1, 4, figsize=(20, 30))\n",
        "\n",
        "costs = []\n",
        "accuracy = []\n",
        "costs_test = []\n",
        "accuracy_test = []\n",
        "\n",
        "n_iterations = 10000\n",
        "learning_rate = 0.001\n",
        "\n",
        "for i in tqdm(range(n_iterations)):\n",
        "  values = forward_propagation(X, params)\n",
        "  grads = backward_propagation(params, values, Y)\n",
        "  cost = find_cost(values[-1], Y)\n",
        "  costs.append(cost)\n",
        "  \n",
        "  Y_pred = values[-1]\n",
        "  Y_pred = ohe.inverse_transform(Y_pred.T)\n",
        "  Y_inv = ohe.inverse_transform(Y.T)\n",
        "  accuracy.append(accuracy_score(Y_inv, Y_pred))\n",
        "\n",
        "  Y_test_pred = forward_propagation(X_test, params)[-1]\n",
        "  costs_test.append(find_cost(Y_test_pred, Y_test_enc))\n",
        "  Y_test_pred = ohe.inverse_transform(Y_test_pred.T)\n",
        "  Y_test_pred = Y_test_pred.reshape(Y_test_pred.shape[0], 1)\n",
        "  accuracy_test.append(accuracy_score(Y_test, Y_test_pred))\n",
        "\n",
        "  params = update_params(params, learning_rate, grads)\n",
        "\n",
        "axes[0].plot(costs, color='red')\n",
        "axes[0].set_xlabel(\"No. of iterations\")\n",
        "axes[0].set_ylabel(\"Training Cost\")\n",
        "axes[0].set_title(\"Iteration vs Cost for learning rate = \" + str(learning_rate))\n",
        "# axes[0].show()\n",
        "\n",
        "axes[1].plot(costs_test, color='green')\n",
        "axes[1].set_xlabel(\"No. of iterations\")\n",
        "axes[1].set_ylabel(\"Testing Cost\")\n",
        "axes[1].set_title(\"Iteration vs Cost for learning rate = \" + str(learning_rate))\n",
        "# axes[1].show()\n",
        "\n",
        "axes[2].plot(accuracy, color='red')\n",
        "axes[2].set_xlabel(\"No. of iterations\")\n",
        "axes[2].set_ylabel(\"Training Accuracy\")\n",
        "axes[2].set_title(\"Training accuracy vs iterations for learning rate = \" + str(learning_rate))\n",
        "# axes[2].show()\n",
        "\n",
        "axes[3].plot(accuracy_test, color='green')\n",
        "axes[3].set_xlabel(\"No. of iterations\")\n",
        "axes[3].set_ylabel(\"Testing Accuracy\")\n",
        "axes[3].set_title(\"Testing accuracy vs iteration for learning rate = \" + str(learning_rate))\n",
        "# axes[3].show()"
      ],
      "metadata": {
        "id": "w6PoXeXwM1ep",
        "colab": {
          "base_uri": "https://localhost:8080/",
          "height": 1000
        },
        "outputId": "a3d96299-05b9-425a-df01-c92e289a655d"
      },
      "execution_count": 2204,
      "outputs": [
        {
          "output_type": "stream",
          "name": "stderr",
          "text": [
            "100%|██████████| 10000/10000 [14:06<00:00, 11.82it/s]\n"
          ]
        },
        {
          "output_type": "execute_result",
          "data": {
            "text/plain": [
              "Text(0.5, 1.0, 'Testing accuracy vs iteration for learning rate = 0.001')"
            ]
          },
          "metadata": {},
          "execution_count": 2204
        },
        {
          "output_type": "display_data",
          "data": {
            "text/plain": [
              "<Figure size 1440x2160 with 4 Axes>"
            ],
            "image/png": "[encoded data removed]"
          },
          "metadata": {
            "needs_background": "light"
          }
        }
      ]
    },
    {
      "cell_type": "markdown",
      "source": [
        "---"
      ],
      "metadata": {
        "id": "CUQxwpm_NCq2"
      }
    }
  ]
}