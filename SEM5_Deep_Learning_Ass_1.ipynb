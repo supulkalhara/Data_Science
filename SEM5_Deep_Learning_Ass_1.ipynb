{
  "nbformat": 4,
  "nbformat_minor": 0,
  "metadata": {
    "colab": {
      "provenance": [],
      "mount_file_id": "144swZwoClngeuMhfVv_w9y0tgQcKWqYq",
      "authorship_tag": "ABX9TyMB7HZbhCyBTQfHIav2uPTg",
      "include_colab_link": true
    },
    "kernelspec": {
      "name": "python3",
      "display_name": "Python 3"
    },
    "language_info": {
      "name": "python"
    }
  },
  "cells": [
    {
      "cell_type": "markdown",
      "metadata": {
        "id": "view-in-github",
        "colab_type": "text"
      },
      "source": [
        "<a href=\"https://colab.research.google.com/github/supulkalhara/Data_Science/blob/main/SEM5_Deep_Learning_Ass_1.ipynb\" target=\"_parent\"><img src=\"https://colab.research.google.com/assets/colab-badge.svg\" alt=\"Open In Colab\"/></a>"
      ]
    },
    {
      "cell_type": "code",
      "execution_count": 437,
      "metadata": {
        "colab": {
          "base_uri": "https://localhost:8080/"
        },
        "id": "yP1lACzMEbK9",
        "outputId": "8571f179-9139-4a10-f9d9-5bcecd3b375e"
      },
      "outputs": [
        {
          "output_type": "stream",
          "name": "stdout",
          "text": [
            "Drive already mounted at /content/drive; to attempt to forcibly remount, call drive.mount(\"/content/drive\", force_remount=True).\n"
          ]
        }
      ],
      "source": [
        "from google.colab import drive\n",
        "drive.mount('/content/drive')"
      ]
    },
    {
      "cell_type": "code",
      "source": [
        "import numpy as np\n",
        "import pandas as pd\n",
        "import matplotlib.pyplot as plt\n",
        "from math import e\n",
        "from tqdm import tqdm\n",
        "from sklearn.preprocessing import OneHotEncoder\n",
        "from sklearn.metrics import confusion_matrix, ConfusionMatrixDisplay\n",
        "from sklearn.metrics import accuracy_score"
      ],
      "metadata": {
        "id": "-Bev3bM4HWIH"
      },
      "execution_count": 438,
      "outputs": []
    },
    {
      "cell_type": "markdown",
      "source": [
        "## Methods"
      ],
      "metadata": {
        "id": "Kdj3toj_MaA0"
      }
    },
    {
      "cell_type": "code",
      "source": [
        "# methods for W and b initialization\n",
        "def default__init__():\n",
        "  W1 = np.random.randn(14, 100) * np.sqrt(2/14)\n",
        "  b1 = np.zeros((100, 1))\n",
        "  W2 = np.random.randn(100, 40) * np.sqrt(2/100)\n",
        "  b2 = np.zeros((40, 1))\n",
        "  W3 = np.random.randn(40, 4) * np.sqrt(2/40)\n",
        "  b3 = np.zeros((4, 1))\n",
        "  \n",
        "  return W1, b1, W2, b2, W3, b3\n",
        "\n",
        "def file__init__(W, b):\n",
        "  W1 = W.iloc[:14].dropna(axis=1).to_numpy().T\n",
        "  b1 = b.iloc[0].dropna().to_numpy().reshape(100, 1)\n",
        "  W2 = W.iloc[14:114].dropna(axis=1).to_numpy().T\n",
        "  b2 = b.iloc[1].dropna().to_numpy().reshape(40, 1)\n",
        "  W3 = W.iloc[114:154].dropna(axis=1).to_numpy().T\n",
        "  b3 = b.iloc[2].dropna().to_numpy().reshape(4, 1)\n",
        "  \n",
        "  return W1, b1, W2, b2, W3, b3"
      ],
      "metadata": {
        "id": "vNPnX70-NTVb"
      },
      "execution_count": 439,
      "outputs": []
    },
    {
      "cell_type": "code",
      "source": [
        "# methods for ReLU\n",
        "def ReLU(Z):\n",
        "  return np.maximum(0, Z)\n",
        "\n",
        "def backward_ReLU(dA, Z):\n",
        "  dZ = np.array(dA, copy=True)\n",
        "  dZ[Z <= 0] = 0\n",
        "  return dZ"
      ],
      "metadata": {
        "id": "7rPru2atNmKf"
      },
      "execution_count": 440,
      "outputs": []
    },
    {
      "cell_type": "code",
      "source": [
        "def softmax(z):\n",
        "  return np.exp(z) / np.sum(np.exp(z))"
      ],
      "metadata": {
        "id": "Eev_Yb4cs3Dr"
      },
      "execution_count": 441,
      "outputs": []
    },
    {
      "cell_type": "code",
      "source": [
        "# methods for forward and backwards propagations\n",
        "def forward_propagation(X, params):\n",
        "  W1, b1, W2, b2, W3, b3 = params\n",
        "\n",
        "  # layer 1 -> layer 2\n",
        "  Z1 = (W1 @ X) + b1 \n",
        "  A1 = ReLU(Z1)\n",
        "\n",
        "  # layer 2 -> layer 3\n",
        "  Z2 = (W2 @ A1) + b2 \n",
        "  A2 = ReLU(Z2)\n",
        "\n",
        "  # layer 3 -> layer 4\n",
        "  Z3 = (W3 @ A2) + b3\n",
        "  A3 = softmax(Z3)\n",
        "\n",
        "  return X, Z1, A1, Z2, A2, Z3, A3\n",
        "\n",
        "def backward_propagation(params, values, Y):\n",
        "  W1, b1, W2, b2, W3, b3 = params\n",
        "  A0, Z1, A1, Z2, A2, Z3, A3 = values\n",
        "  m = A3.shape[1]\n",
        "\n",
        "  dZ3 = A3 - Y\n",
        "  dW3 = 1. / m * np.dot(dZ3, A2.T)\n",
        "  db3 = (1/m) * np.sum(dZ3, axis=1, keepdims=True)\n",
        "\n",
        "  dA2 = W3.T @ dZ3\n",
        "  dZ2 = backward_ReLU(dA2, Z2)\n",
        "  dW2 = 1. / m * np.dot(dZ2, A1.T)\n",
        "  db2 = (1/m) * np.sum(dZ2, axis=1, keepdims=True)\n",
        "\n",
        "  dA1 = (W2.T @ dZ2)\n",
        "  dZ1 = backward_ReLU(dA1, Z1)\n",
        "  dW1 = 1. / m * np.dot(dZ1, A0.T)\n",
        "  db1 = (1/m) * np.sum(dZ1, axis=1, keepdims=True)\n",
        "\n",
        "  return dW1, db1, dW2, db2, dW3, db3"
      ],
      "metadata": {
        "id": "P2owrznINaCW"
      },
      "execution_count": 442,
      "outputs": []
    },
    {
      "cell_type": "code",
      "source": [
        "# method for calculating cost\n",
        "def find_cost(A, Y):\n",
        "  return np.sum(-np.sum(Y * np.log(A+1e-20), axis=0)) / Y.shape[1]"
      ],
      "metadata": {
        "id": "mRUMmzYWNa4J"
      },
      "execution_count": 443,
      "outputs": []
    },
    {
      "cell_type": "code",
      "source": [
        "# method for updating parameters\n",
        "def update_params(params, learning_rate, grads):\n",
        "  W1, b1, W2, b2, W3, b3 = params\n",
        "  dW1, db1, dW2, db2, dW3, db3 = grads\n",
        "\n",
        "  W1 = W1 - learning_rate*dW1\n",
        "  b1 = b1 - learning_rate*db1\n",
        "  W2 = W2 - learning_rate*dW2\n",
        "  b2 = b2 - learning_rate*db2\n",
        "  W3 = W3 - learning_rate*dW3\n",
        "  b3 = b3 - learning_rate*db3\n",
        "\n",
        "  return W1, b1, W2, b2, W3, b3"
      ],
      "metadata": {
        "id": "vAk0Y6FTNhU4"
      },
      "execution_count": 444,
      "outputs": []
    },
    {
      "cell_type": "code",
      "source": [
        "class Model:\n",
        "\n",
        "  # model and parameters initialization\n",
        "  def __init__(self, weights=\"\", biases=\"\", random=True):\n",
        "    if random :\n",
        "      self.params = default__init__()\n",
        "    else:\n",
        "      self.params = file__init__(weights,biases)\n",
        "\n",
        "  #gradient descent\n",
        "  def grad_dec(self, X, Y, n_iterations=100, learning_rate=0.001):\n",
        "    for i in range(n_iterations):\n",
        "      values = forward_propagation(X, self.params)\n",
        "      cost = find_cost(values[-1], Y)\n",
        "      grads = backward_propagation(self.params, values, Y)\n",
        "      params = update_params(self.params, learning_rate, grads)\n",
        "\n",
        "    out = params, grads, cost\n",
        "    return out\n",
        "\n",
        "  def predict(self, X, params):\n",
        "    values = forward_propagation(X, params)\n",
        "    A3 = values[-1]\n",
        "    return A3"
      ],
      "metadata": {
        "id": "BUDEWnypHaxJ"
      },
      "execution_count": 445,
      "outputs": []
    },
    {
      "cell_type": "markdown",
      "source": [
        "---"
      ],
      "metadata": {
        "id": "w9GjkWt8MjD_"
      }
    },
    {
      "cell_type": "markdown",
      "source": [
        "## __ __init__ __"
      ],
      "metadata": {
        "id": "4IoySygIQ6zz"
      }
    },
    {
      "cell_type": "code",
      "source": [
        "X = np.array([-1, 1, 1, 1, -1, -1, 1, -1, 1, 1, -1, -1, 1, 1]).reshape(14,1)\n",
        "Y = np.array([0, 0, 0, 1]).reshape(4,1)"
      ],
      "metadata": {
        "id": "9KQ28q4hOErw"
      },
      "execution_count": 446,
      "outputs": []
    },
    {
      "cell_type": "code",
      "source": [
        "X_1 = np.array([[-1, 1, 1, 1, -1, -1, 1, -1, 1, 1, -1, -1, 1, 1], [-1, -1, 1, -1, -1, -1, 1, -1, 1, 1, -1, -1, 1, -1]]).reshape(14,2)\n",
        "Y_1 = np.array([[0, 0, 0, 1], [1, 0, 0, 0]]).reshape(4,2)"
      ],
      "metadata": {
        "id": "LPc0sBMqld_3"
      },
      "execution_count": 447,
      "outputs": []
    },
    {
      "cell_type": "markdown",
      "source": [
        "## Task_1/a"
      ],
      "metadata": {
        "id": "dOUhGMqfMlYL"
      }
    },
    {
      "cell_type": "code",
      "source": [
        "w = pd.read_csv('/content/drive/MyDrive/Datasets/SEM5_Deep_Learning_Ass_1/Task_1/a/w.csv', header=None)\n",
        "w.head()"
      ],
      "metadata": {
        "colab": {
          "base_uri": "https://localhost:8080/",
          "height": 646
        },
        "id": "252ZuFIJPqfX",
        "outputId": "49c69a43-bb2c-445c-d89f-031ede304f90"
      },
      "execution_count": 448,
      "outputs": [
        {
          "output_type": "execute_result",
          "data": {
            "text/plain": [
              "                            0         1         2         3         4    \\\n",
              "0  weights btw layer0 to layer1  0.471435 -1.190976  1.432707 -0.312652   \n",
              "1  weights btw layer0 to layer1  0.291205  0.566534  0.503592  0.285296   \n",
              "2  weights btw layer0 to layer1 -0.319561 -0.619993  0.156998 -0.571455   \n",
              "3  weights btw layer0 to layer1  0.527046  0.711112 -0.217545  2.637791   \n",
              "4  weights btw layer0 to layer1 -0.226632 -0.923831  0.355839 -1.270064   \n",
              "\n",
              "        5         6         7         8         9    ...       91        92   \\\n",
              "0 -0.720589  0.887163  0.859588 -0.636523  0.015696  ...  0.079842 -0.399965   \n",
              "1  0.484288  1.363482 -0.781105 -0.468018  1.224574  ...  0.209395 -0.592886   \n",
              "2  1.057633 -0.791489 -0.524627  0.071878  1.910759  ...  0.386254  0.822775   \n",
              "3 -1.742138 -0.094435  1.431184  0.592758  0.170297  ...  0.393892 -0.950026   \n",
              "4 -0.195472 -0.463419  0.989415  1.388647  1.087714  ...  0.725714  0.916976   \n",
              "\n",
              "        93        94        95        96        97        98        99   \\\n",
              "0 -1.027851 -0.584718  0.816594 -0.081947 -0.344766  0.528288 -1.068989   \n",
              "1 -1.473116 -0.896581  1.104352 -0.431550 -0.161137  0.889157  0.288377   \n",
              "2 -0.683790  1.057203  0.031880  1.343182 -0.050540 -0.364010 -1.553342   \n",
              "3  0.332507  0.528944 -1.120521  0.048264  0.061988 -1.027516 -0.238335   \n",
              "4 -0.563890 -1.522180 -0.014279 -0.246721 -0.165329  0.119114 -2.074980   \n",
              "\n",
              "        100  \n",
              "0 -0.511881  \n",
              "1 -1.051539  \n",
              "2 -0.319298  \n",
              "3  1.932178  \n",
              "4 -1.002755  \n",
              "\n",
              "[5 rows x 101 columns]"
            ],
            "text/html": [
              "\n",
              "  <div id=\"df-434f74d1-475b-41e3-9f53-c28924503b5f\">\n",
              "    <div class=\"colab-df-container\">\n",
              "      <div>\n",
              "<style scoped>\n",
              "    .dataframe tbody tr th:only-of-type {\n",
              "        vertical-align: middle;\n",
              "    }\n",
              "\n",
              "    .dataframe tbody tr th {\n",
              "        vertical-align: top;\n",
              "    }\n",
              "\n",
              "    .dataframe thead th {\n",
              "        text-align: right;\n",
              "    }\n",
              "</style>\n",
              "<table border=\"1\" class=\"dataframe\">\n",
              "  <thead>\n",
              "    <tr style=\"text-align: right;\">\n",
              "      <th></th>\n",
              "      <th>0</th>\n",
              "      <th>1</th>\n",
              "      <th>2</th>\n",
              "      <th>3</th>\n",
              "      <th>4</th>\n",
              "      <th>5</th>\n",
              "      <th>6</th>\n",
              "      <th>7</th>\n",
              "      <th>8</th>\n",
              "      <th>9</th>\n",
              "      <th>...</th>\n",
              "      <th>91</th>\n",
              "      <th>92</th>\n",
              "      <th>93</th>\n",
              "      <th>94</th>\n",
              "      <th>95</th>\n",
              "      <th>96</th>\n",
              "      <th>97</th>\n",
              "      <th>98</th>\n",
              "      <th>99</th>\n",
              "      <th>100</th>\n",
              "    </tr>\n",
              "  </thead>\n",
              "  <tbody>\n",
              "    <tr>\n",
              "      <th>0</th>\n",
              "      <td>weights btw layer0 to layer1</td>\n",
              "      <td>0.471435</td>\n",
              "      <td>-1.190976</td>\n",
              "      <td>1.432707</td>\n",
              "      <td>-0.312652</td>\n",
              "      <td>-0.720589</td>\n",
              "      <td>0.887163</td>\n",
              "      <td>0.859588</td>\n",
              "      <td>-0.636523</td>\n",
              "      <td>0.015696</td>\n",
              "      <td>...</td>\n",
              "      <td>0.079842</td>\n",
              "      <td>-0.399965</td>\n",
              "      <td>-1.027851</td>\n",
              "      <td>-0.584718</td>\n",
              "      <td>0.816594</td>\n",
              "      <td>-0.081947</td>\n",
              "      <td>-0.344766</td>\n",
              "      <td>0.528288</td>\n",
              "      <td>-1.068989</td>\n",
              "      <td>-0.511881</td>\n",
              "    </tr>\n",
              "    <tr>\n",
              "      <th>1</th>\n",
              "      <td>weights btw layer0 to layer1</td>\n",
              "      <td>0.291205</td>\n",
              "      <td>0.566534</td>\n",
              "      <td>0.503592</td>\n",
              "      <td>0.285296</td>\n",
              "      <td>0.484288</td>\n",
              "      <td>1.363482</td>\n",
              "      <td>-0.781105</td>\n",
              "      <td>-0.468018</td>\n",
              "      <td>1.224574</td>\n",
              "      <td>...</td>\n",
              "      <td>0.209395</td>\n",
              "      <td>-0.592886</td>\n",
              "      <td>-1.473116</td>\n",
              "      <td>-0.896581</td>\n",
              "      <td>1.104352</td>\n",
              "      <td>-0.431550</td>\n",
              "      <td>-0.161137</td>\n",
              "      <td>0.889157</td>\n",
              "      <td>0.288377</td>\n",
              "      <td>-1.051539</td>\n",
              "    </tr>\n",
              "    <tr>\n",
              "      <th>2</th>\n",
              "      <td>weights btw layer0 to layer1</td>\n",
              "      <td>-0.319561</td>\n",
              "      <td>-0.619993</td>\n",
              "      <td>0.156998</td>\n",
              "      <td>-0.571455</td>\n",
              "      <td>1.057633</td>\n",
              "      <td>-0.791489</td>\n",
              "      <td>-0.524627</td>\n",
              "      <td>0.071878</td>\n",
              "      <td>1.910759</td>\n",
              "      <td>...</td>\n",
              "      <td>0.386254</td>\n",
              "      <td>0.822775</td>\n",
              "      <td>-0.683790</td>\n",
              "      <td>1.057203</td>\n",
              "      <td>0.031880</td>\n",
              "      <td>1.343182</td>\n",
              "      <td>-0.050540</td>\n",
              "      <td>-0.364010</td>\n",
              "      <td>-1.553342</td>\n",
              "      <td>-0.319298</td>\n",
              "    </tr>\n",
              "    <tr>\n",
              "      <th>3</th>\n",
              "      <td>weights btw layer0 to layer1</td>\n",
              "      <td>0.527046</td>\n",
              "      <td>0.711112</td>\n",
              "      <td>-0.217545</td>\n",
              "      <td>2.637791</td>\n",
              "      <td>-1.742138</td>\n",
              "      <td>-0.094435</td>\n",
              "      <td>1.431184</td>\n",
              "      <td>0.592758</td>\n",
              "      <td>0.170297</td>\n",
              "      <td>...</td>\n",
              "      <td>0.393892</td>\n",
              "      <td>-0.950026</td>\n",
              "      <td>0.332507</td>\n",
              "      <td>0.528944</td>\n",
              "      <td>-1.120521</td>\n",
              "      <td>0.048264</td>\n",
              "      <td>0.061988</td>\n",
              "      <td>-1.027516</td>\n",
              "      <td>-0.238335</td>\n",
              "      <td>1.932178</td>\n",
              "    </tr>\n",
              "    <tr>\n",
              "      <th>4</th>\n",
              "      <td>weights btw layer0 to layer1</td>\n",
              "      <td>-0.226632</td>\n",
              "      <td>-0.923831</td>\n",
              "      <td>0.355839</td>\n",
              "      <td>-1.270064</td>\n",
              "      <td>-0.195472</td>\n",
              "      <td>-0.463419</td>\n",
              "      <td>0.989415</td>\n",
              "      <td>1.388647</td>\n",
              "      <td>1.087714</td>\n",
              "      <td>...</td>\n",
              "      <td>0.725714</td>\n",
              "      <td>0.916976</td>\n",
              "      <td>-0.563890</td>\n",
              "      <td>-1.522180</td>\n",
              "      <td>-0.014279</td>\n",
              "      <td>-0.246721</td>\n",
              "      <td>-0.165329</td>\n",
              "      <td>0.119114</td>\n",
              "      <td>-2.074980</td>\n",
              "      <td>-1.002755</td>\n",
              "    </tr>\n",
              "  </tbody>\n",
              "</table>\n",
              "<p>5 rows × 101 columns</p>\n",
              "</div>\n",
              "      <button class=\"colab-df-convert\" onclick=\"convertToInteractive('df-434f74d1-475b-41e3-9f53-c28924503b5f')\"\n",
              "              title=\"Convert this dataframe to an interactive table.\"\n",
              "              style=\"display:none;\">\n",
              "        \n",
              "  <svg xmlns=\"http://www.w3.org/2000/svg\" height=\"24px\"viewBox=\"0 0 24 24\"\n",
              "       width=\"24px\">\n",
              "    <path d=\"M0 0h24v24H0V0z\" fill=\"none\"/>\n",
              "    <path d=\"M18.56 5.44l.94 2.06.94-2.06 2.06-.94-2.06-.94-.94-2.06-.94 2.06-2.06.94zm-11 1L8.5 8.5l.94-2.06 2.06-.94-2.06-.94L8.5 2.5l-.94 2.06-2.06.94zm10 10l.94 2.06.94-2.06 2.06-.94-2.06-.94-.94-2.06-.94 2.06-2.06.94z\"/><path d=\"M17.41 7.96l-1.37-1.37c-.4-.4-.92-.59-1.43-.59-.52 0-1.04.2-1.43.59L10.3 9.45l-7.72 7.72c-.78.78-.78 2.05 0 2.83L4 21.41c.39.39.9.59 1.41.59.51 0 1.02-.2 1.41-.59l7.78-7.78 2.81-2.81c.8-.78.8-2.07 0-2.86zM5.41 20L4 18.59l7.72-7.72 1.47 1.35L5.41 20z\"/>\n",
              "  </svg>\n",
              "      </button>\n",
              "      \n",
              "  <style>\n",
              "    .colab-df-container {\n",
              "      display:flex;\n",
              "      flex-wrap:wrap;\n",
              "      gap: 12px;\n",
              "    }\n",
              "\n",
              "    .colab-df-convert {\n",
              "      background-color: #E8F0FE;\n",
              "      border: none;\n",
              "      border-radius: 50%;\n",
              "      cursor: pointer;\n",
              "      display: none;\n",
              "      fill: #1967D2;\n",
              "      height: 32px;\n",
              "      padding: 0 0 0 0;\n",
              "      width: 32px;\n",
              "    }\n",
              "\n",
              "    .colab-df-convert:hover {\n",
              "      background-color: #E2EBFA;\n",
              "      box-shadow: 0px 1px 2px rgba(60, 64, 67, 0.3), 0px 1px 3px 1px rgba(60, 64, 67, 0.15);\n",
              "      fill: #174EA6;\n",
              "    }\n",
              "\n",
              "    [theme=dark] .colab-df-convert {\n",
              "      background-color: #3B4455;\n",
              "      fill: #D2E3FC;\n",
              "    }\n",
              "\n",
              "    [theme=dark] .colab-df-convert:hover {\n",
              "      background-color: #434B5C;\n",
              "      box-shadow: 0px 1px 3px 1px rgba(0, 0, 0, 0.15);\n",
              "      filter: drop-shadow(0px 1px 2px rgba(0, 0, 0, 0.3));\n",
              "      fill: #FFFFFF;\n",
              "    }\n",
              "  </style>\n",
              "\n",
              "      <script>\n",
              "        const buttonEl =\n",
              "          document.querySelector('#df-434f74d1-475b-41e3-9f53-c28924503b5f button.colab-df-convert');\n",
              "        buttonEl.style.display =\n",
              "          google.colab.kernel.accessAllowed ? 'block' : 'none';\n",
              "\n",
              "        async function convertToInteractive(key) {\n",
              "          const element = document.querySelector('#df-434f74d1-475b-41e3-9f53-c28924503b5f');\n",
              "          const dataTable =\n",
              "            await google.colab.kernel.invokeFunction('convertToInteractive',\n",
              "                                                     [key], {});\n",
              "          if (!dataTable) return;\n",
              "\n",
              "          const docLinkHtml = 'Like what you see? Visit the ' +\n",
              "            '<a target=\"_blank\" href=https://colab.research.google.com/notebooks/data_table.ipynb>data table notebook</a>'\n",
              "            + ' to learn more about interactive tables.';\n",
              "          element.innerHTML = '';\n",
              "          dataTable['output_type'] = 'display_data';\n",
              "          await google.colab.output.renderOutput(dataTable, element);\n",
              "          const docLink = document.createElement('div');\n",
              "          docLink.innerHTML = docLinkHtml;\n",
              "          element.appendChild(docLink);\n",
              "        }\n",
              "      </script>\n",
              "    </div>\n",
              "  </div>\n",
              "  "
            ]
          },
          "metadata": {},
          "execution_count": 448
        }
      ]
    },
    {
      "cell_type": "code",
      "source": [
        "b = pd.read_csv('/content/drive/MyDrive/Datasets/SEM5_Deep_Learning_Ass_1/Task_1/a/b.csv', header=None)\n",
        "b.head()"
      ],
      "metadata": {
        "colab": {
          "base_uri": "https://localhost:8080/",
          "height": 341
        },
        "id": "dG5AzuxmSV-A",
        "outputId": "2e88f1a5-e00c-48ab-c182-4d078453c5af"
      },
      "execution_count": 449,
      "outputs": [
        {
          "output_type": "execute_result",
          "data": {
            "text/plain": [
              "               0         1         2         3         4         5    \\\n",
              "0  bias for layer1 -0.635155 -0.681020 -1.501586 -0.368925 -0.352999   \n",
              "1  bias for layer2  0.665451  1.426556  1.158077 -0.496191 -0.010350   \n",
              "2  bias for layer3  1.508889  2.038297  0.945609  1.193867       NaN   \n",
              "\n",
              "        6         7         8         9    ...       91        92        93   \\\n",
              "0  0.127384  0.517531  0.747837 -0.809378  ...  0.156078  0.413614  1.211116   \n",
              "1  0.617206  0.336297 -0.358238 -0.995016  ...       NaN       NaN       NaN   \n",
              "2       NaN       NaN       NaN       NaN  ...       NaN       NaN       NaN   \n",
              "\n",
              "        94        95        96       97        98        99        100  \n",
              "0 -0.176121  0.942438  0.633436 -0.11388  0.457997 -0.615561  0.385286  \n",
              "1       NaN       NaN       NaN      NaN       NaN       NaN       NaN  \n",
              "2       NaN       NaN       NaN      NaN       NaN       NaN       NaN  \n",
              "\n",
              "[3 rows x 101 columns]"
            ],
            "text/html": [
              "\n",
              "  <div id=\"df-aa658d93-b1e0-482b-8d94-c7c24612185a\">\n",
              "    <div class=\"colab-df-container\">\n",
              "      <div>\n",
              "<style scoped>\n",
              "    .dataframe tbody tr th:only-of-type {\n",
              "        vertical-align: middle;\n",
              "    }\n",
              "\n",
              "    .dataframe tbody tr th {\n",
              "        vertical-align: top;\n",
              "    }\n",
              "\n",
              "    .dataframe thead th {\n",
              "        text-align: right;\n",
              "    }\n",
              "</style>\n",
              "<table border=\"1\" class=\"dataframe\">\n",
              "  <thead>\n",
              "    <tr style=\"text-align: right;\">\n",
              "      <th></th>\n",
              "      <th>0</th>\n",
              "      <th>1</th>\n",
              "      <th>2</th>\n",
              "      <th>3</th>\n",
              "      <th>4</th>\n",
              "      <th>5</th>\n",
              "      <th>6</th>\n",
              "      <th>7</th>\n",
              "      <th>8</th>\n",
              "      <th>9</th>\n",
              "      <th>...</th>\n",
              "      <th>91</th>\n",
              "      <th>92</th>\n",
              "      <th>93</th>\n",
              "      <th>94</th>\n",
              "      <th>95</th>\n",
              "      <th>96</th>\n",
              "      <th>97</th>\n",
              "      <th>98</th>\n",
              "      <th>99</th>\n",
              "      <th>100</th>\n",
              "    </tr>\n",
              "  </thead>\n",
              "  <tbody>\n",
              "    <tr>\n",
              "      <th>0</th>\n",
              "      <td>bias for layer1</td>\n",
              "      <td>-0.635155</td>\n",
              "      <td>-0.681020</td>\n",
              "      <td>-1.501586</td>\n",
              "      <td>-0.368925</td>\n",
              "      <td>-0.352999</td>\n",
              "      <td>0.127384</td>\n",
              "      <td>0.517531</td>\n",
              "      <td>0.747837</td>\n",
              "      <td>-0.809378</td>\n",
              "      <td>...</td>\n",
              "      <td>0.156078</td>\n",
              "      <td>0.413614</td>\n",
              "      <td>1.211116</td>\n",
              "      <td>-0.176121</td>\n",
              "      <td>0.942438</td>\n",
              "      <td>0.633436</td>\n",
              "      <td>-0.11388</td>\n",
              "      <td>0.457997</td>\n",
              "      <td>-0.615561</td>\n",
              "      <td>0.385286</td>\n",
              "    </tr>\n",
              "    <tr>\n",
              "      <th>1</th>\n",
              "      <td>bias for layer2</td>\n",
              "      <td>0.665451</td>\n",
              "      <td>1.426556</td>\n",
              "      <td>1.158077</td>\n",
              "      <td>-0.496191</td>\n",
              "      <td>-0.010350</td>\n",
              "      <td>0.617206</td>\n",
              "      <td>0.336297</td>\n",
              "      <td>-0.358238</td>\n",
              "      <td>-0.995016</td>\n",
              "      <td>...</td>\n",
              "      <td>NaN</td>\n",
              "      <td>NaN</td>\n",
              "      <td>NaN</td>\n",
              "      <td>NaN</td>\n",
              "      <td>NaN</td>\n",
              "      <td>NaN</td>\n",
              "      <td>NaN</td>\n",
              "      <td>NaN</td>\n",
              "      <td>NaN</td>\n",
              "      <td>NaN</td>\n",
              "    </tr>\n",
              "    <tr>\n",
              "      <th>2</th>\n",
              "      <td>bias for layer3</td>\n",
              "      <td>1.508889</td>\n",
              "      <td>2.038297</td>\n",
              "      <td>0.945609</td>\n",
              "      <td>1.193867</td>\n",
              "      <td>NaN</td>\n",
              "      <td>NaN</td>\n",
              "      <td>NaN</td>\n",
              "      <td>NaN</td>\n",
              "      <td>NaN</td>\n",
              "      <td>...</td>\n",
              "      <td>NaN</td>\n",
              "      <td>NaN</td>\n",
              "      <td>NaN</td>\n",
              "      <td>NaN</td>\n",
              "      <td>NaN</td>\n",
              "      <td>NaN</td>\n",
              "      <td>NaN</td>\n",
              "      <td>NaN</td>\n",
              "      <td>NaN</td>\n",
              "      <td>NaN</td>\n",
              "    </tr>\n",
              "  </tbody>\n",
              "</table>\n",
              "<p>3 rows × 101 columns</p>\n",
              "</div>\n",
              "      <button class=\"colab-df-convert\" onclick=\"convertToInteractive('df-aa658d93-b1e0-482b-8d94-c7c24612185a')\"\n",
              "              title=\"Convert this dataframe to an interactive table.\"\n",
              "              style=\"display:none;\">\n",
              "        \n",
              "  <svg xmlns=\"http://www.w3.org/2000/svg\" height=\"24px\"viewBox=\"0 0 24 24\"\n",
              "       width=\"24px\">\n",
              "    <path d=\"M0 0h24v24H0V0z\" fill=\"none\"/>\n",
              "    <path d=\"M18.56 5.44l.94 2.06.94-2.06 2.06-.94-2.06-.94-.94-2.06-.94 2.06-2.06.94zm-11 1L8.5 8.5l.94-2.06 2.06-.94-2.06-.94L8.5 2.5l-.94 2.06-2.06.94zm10 10l.94 2.06.94-2.06 2.06-.94-2.06-.94-.94-2.06-.94 2.06-2.06.94z\"/><path d=\"M17.41 7.96l-1.37-1.37c-.4-.4-.92-.59-1.43-.59-.52 0-1.04.2-1.43.59L10.3 9.45l-7.72 7.72c-.78.78-.78 2.05 0 2.83L4 21.41c.39.39.9.59 1.41.59.51 0 1.02-.2 1.41-.59l7.78-7.78 2.81-2.81c.8-.78.8-2.07 0-2.86zM5.41 20L4 18.59l7.72-7.72 1.47 1.35L5.41 20z\"/>\n",
              "  </svg>\n",
              "      </button>\n",
              "      \n",
              "  <style>\n",
              "    .colab-df-container {\n",
              "      display:flex;\n",
              "      flex-wrap:wrap;\n",
              "      gap: 12px;\n",
              "    }\n",
              "\n",
              "    .colab-df-convert {\n",
              "      background-color: #E8F0FE;\n",
              "      border: none;\n",
              "      border-radius: 50%;\n",
              "      cursor: pointer;\n",
              "      display: none;\n",
              "      fill: #1967D2;\n",
              "      height: 32px;\n",
              "      padding: 0 0 0 0;\n",
              "      width: 32px;\n",
              "    }\n",
              "\n",
              "    .colab-df-convert:hover {\n",
              "      background-color: #E2EBFA;\n",
              "      box-shadow: 0px 1px 2px rgba(60, 64, 67, 0.3), 0px 1px 3px 1px rgba(60, 64, 67, 0.15);\n",
              "      fill: #174EA6;\n",
              "    }\n",
              "\n",
              "    [theme=dark] .colab-df-convert {\n",
              "      background-color: #3B4455;\n",
              "      fill: #D2E3FC;\n",
              "    }\n",
              "\n",
              "    [theme=dark] .colab-df-convert:hover {\n",
              "      background-color: #434B5C;\n",
              "      box-shadow: 0px 1px 3px 1px rgba(0, 0, 0, 0.15);\n",
              "      filter: drop-shadow(0px 1px 2px rgba(0, 0, 0, 0.3));\n",
              "      fill: #FFFFFF;\n",
              "    }\n",
              "  </style>\n",
              "\n",
              "      <script>\n",
              "        const buttonEl =\n",
              "          document.querySelector('#df-aa658d93-b1e0-482b-8d94-c7c24612185a button.colab-df-convert');\n",
              "        buttonEl.style.display =\n",
              "          google.colab.kernel.accessAllowed ? 'block' : 'none';\n",
              "\n",
              "        async function convertToInteractive(key) {\n",
              "          const element = document.querySelector('#df-aa658d93-b1e0-482b-8d94-c7c24612185a');\n",
              "          const dataTable =\n",
              "            await google.colab.kernel.invokeFunction('convertToInteractive',\n",
              "                                                     [key], {});\n",
              "          if (!dataTable) return;\n",
              "\n",
              "          const docLinkHtml = 'Like what you see? Visit the ' +\n",
              "            '<a target=\"_blank\" href=https://colab.research.google.com/notebooks/data_table.ipynb>data table notebook</a>'\n",
              "            + ' to learn more about interactive tables.';\n",
              "          element.innerHTML = '';\n",
              "          dataTable['output_type'] = 'display_data';\n",
              "          await google.colab.output.renderOutput(dataTable, element);\n",
              "          const docLink = document.createElement('div');\n",
              "          docLink.innerHTML = docLinkHtml;\n",
              "          element.appendChild(docLink);\n",
              "        }\n",
              "      </script>\n",
              "    </div>\n",
              "  </div>\n",
              "  "
            ]
          },
          "metadata": {},
          "execution_count": 449
        }
      ]
    },
    {
      "cell_type": "code",
      "source": [
        "w.drop(0, axis=1, inplace=True)\n",
        "b.drop(0, axis=1, inplace=True)"
      ],
      "metadata": {
        "id": "yNpdA7FBprHj"
      },
      "execution_count": 450,
      "outputs": []
    },
    {
      "cell_type": "code",
      "source": [
        "model = Model(weights=w, biases=b, random=False)"
      ],
      "metadata": {
        "id": "Swvdsbq9-kc0"
      },
      "execution_count": 451,
      "outputs": []
    },
    {
      "cell_type": "code",
      "source": [
        "output = model.grad_dec(X, Y, n_iterations=1)\n",
        "params, grads, cost = output[0], output[1], output[2]\n",
        "print(cost)"
      ],
      "metadata": {
        "colab": {
          "base_uri": "https://localhost:8080/"
        },
        "id": "g1oOicWHMy5-",
        "outputId": "f3001f87-e5e4-4a16-f7ad-adebe33c4846"
      },
      "execution_count": 452,
      "outputs": [
        {
          "output_type": "stream",
          "name": "stdout",
          "text": [
            "46.051701859880914\n"
          ]
        }
      ]
    },
    {
      "cell_type": "code",
      "source": [
        "model.predict(X, params)"
      ],
      "metadata": {
        "colab": {
          "base_uri": "https://localhost:8080/"
        },
        "id": "2Q0whSt_kIlB",
        "outputId": "58b8fa29-32de-4053-cc39-d5bc7f865f36"
      },
      "execution_count": 453,
      "outputs": [
        {
          "output_type": "execute_result",
          "data": {
            "text/plain": [
              "array([[8.12732385e-139],\n",
              "       [6.25933025e-104],\n",
              "       [1.00000000e+000],\n",
              "       [4.40270759e-042]])"
            ]
          },
          "metadata": {},
          "execution_count": 453
        }
      ]
    },
    {
      "cell_type": "code",
      "source": [
        "true_dw = pd.read_csv('/content/drive/MyDrive/Datasets/SEM5_Deep_Learning_Ass_1/Task_1/a/true-dw.csv', header=None)\n",
        "true_db = pd.read_csv('/content/drive/MyDrive/Datasets/SEM5_Deep_Learning_Ass_1/Task_1/a/true-db.csv', header=None)"
      ],
      "metadata": {
        "id": "LeMMcHaNvmtu"
      },
      "execution_count": 454,
      "outputs": []
    },
    {
      "cell_type": "code",
      "source": [
        "true_dw.head()"
      ],
      "metadata": {
        "colab": {
          "base_uri": "https://localhost:8080/",
          "height": 299
        },
        "id": "QnjrsKoiw2WG",
        "outputId": "444a6db2-811f-46f0-f903-54f7ed3c3868"
      },
      "execution_count": 455,
      "outputs": [
        {
          "output_type": "execute_result",
          "data": {
            "text/plain": [
              "    0         1    2         3    4    5         6        7         8    9   \\\n",
              "0 -0.0 -5.302999 -0.0 -1.029493 -0.0 -0.0  8.007869  0.62155  8.262644 -0.0   \n",
              "1  0.0  5.302999  0.0  1.029493  0.0  0.0 -8.007869 -0.62155 -8.262644  0.0   \n",
              "2  0.0  5.302999  0.0  1.029493  0.0  0.0 -8.007869 -0.62155 -8.262644  0.0   \n",
              "3  0.0  5.302999  0.0  1.029493  0.0  0.0 -8.007869 -0.62155 -8.262644  0.0   \n",
              "4 -0.0 -5.302999 -0.0 -1.029493 -0.0 -0.0  8.007869  0.62155  8.262644 -0.0   \n",
              "\n",
              "   ...       90        91        92         93   94       95        96  \\\n",
              "0  ...  4.95448  8.113829 -5.106945 -10.410107 -0.0 -1.82363 -4.100732   \n",
              "1  ... -4.95448 -8.113829  5.106945  10.410107  0.0  1.82363  4.100732   \n",
              "2  ... -4.95448 -8.113829  5.106945  10.410107  0.0  1.82363  4.100732   \n",
              "3  ... -4.95448 -8.113829  5.106945  10.410107  0.0  1.82363  4.100732   \n",
              "4  ...  4.95448  8.113829 -5.106945 -10.410107 -0.0 -1.82363 -4.100732   \n",
              "\n",
              "         97        98        99  \n",
              "0 -4.915877 -2.378255  8.752061  \n",
              "1  4.915877  2.378255 -8.752061  \n",
              "2  4.915877  2.378255 -8.752061  \n",
              "3  4.915877  2.378255 -8.752061  \n",
              "4 -4.915877 -2.378255  8.752061  \n",
              "\n",
              "[5 rows x 100 columns]"
            ],
            "text/html": [
              "\n",
              "  <div id=\"df-1225663b-820f-447e-a9a2-84bf25611c8e\">\n",
              "    <div class=\"colab-df-container\">\n",
              "      <div>\n",
              "<style scoped>\n",
              "    .dataframe tbody tr th:only-of-type {\n",
              "        vertical-align: middle;\n",
              "    }\n",
              "\n",
              "    .dataframe tbody tr th {\n",
              "        vertical-align: top;\n",
              "    }\n",
              "\n",
              "    .dataframe thead th {\n",
              "        text-align: right;\n",
              "    }\n",
              "</style>\n",
              "<table border=\"1\" class=\"dataframe\">\n",
              "  <thead>\n",
              "    <tr style=\"text-align: right;\">\n",
              "      <th></th>\n",
              "      <th>0</th>\n",
              "      <th>1</th>\n",
              "      <th>2</th>\n",
              "      <th>3</th>\n",
              "      <th>4</th>\n",
              "      <th>5</th>\n",
              "      <th>6</th>\n",
              "      <th>7</th>\n",
              "      <th>8</th>\n",
              "      <th>9</th>\n",
              "      <th>...</th>\n",
              "      <th>90</th>\n",
              "      <th>91</th>\n",
              "      <th>92</th>\n",
              "      <th>93</th>\n",
              "      <th>94</th>\n",
              "      <th>95</th>\n",
              "      <th>96</th>\n",
              "      <th>97</th>\n",
              "      <th>98</th>\n",
              "      <th>99</th>\n",
              "    </tr>\n",
              "  </thead>\n",
              "  <tbody>\n",
              "    <tr>\n",
              "      <th>0</th>\n",
              "      <td>-0.0</td>\n",
              "      <td>-5.302999</td>\n",
              "      <td>-0.0</td>\n",
              "      <td>-1.029493</td>\n",
              "      <td>-0.0</td>\n",
              "      <td>-0.0</td>\n",
              "      <td>8.007869</td>\n",
              "      <td>0.62155</td>\n",
              "      <td>8.262644</td>\n",
              "      <td>-0.0</td>\n",
              "      <td>...</td>\n",
              "      <td>4.95448</td>\n",
              "      <td>8.113829</td>\n",
              "      <td>-5.106945</td>\n",
              "      <td>-10.410107</td>\n",
              "      <td>-0.0</td>\n",
              "      <td>-1.82363</td>\n",
              "      <td>-4.100732</td>\n",
              "      <td>-4.915877</td>\n",
              "      <td>-2.378255</td>\n",
              "      <td>8.752061</td>\n",
              "    </tr>\n",
              "    <tr>\n",
              "      <th>1</th>\n",
              "      <td>0.0</td>\n",
              "      <td>5.302999</td>\n",
              "      <td>0.0</td>\n",
              "      <td>1.029493</td>\n",
              "      <td>0.0</td>\n",
              "      <td>0.0</td>\n",
              "      <td>-8.007869</td>\n",
              "      <td>-0.62155</td>\n",
              "      <td>-8.262644</td>\n",
              "      <td>0.0</td>\n",
              "      <td>...</td>\n",
              "      <td>-4.95448</td>\n",
              "      <td>-8.113829</td>\n",
              "      <td>5.106945</td>\n",
              "      <td>10.410107</td>\n",
              "      <td>0.0</td>\n",
              "      <td>1.82363</td>\n",
              "      <td>4.100732</td>\n",
              "      <td>4.915877</td>\n",
              "      <td>2.378255</td>\n",
              "      <td>-8.752061</td>\n",
              "    </tr>\n",
              "    <tr>\n",
              "      <th>2</th>\n",
              "      <td>0.0</td>\n",
              "      <td>5.302999</td>\n",
              "      <td>0.0</td>\n",
              "      <td>1.029493</td>\n",
              "      <td>0.0</td>\n",
              "      <td>0.0</td>\n",
              "      <td>-8.007869</td>\n",
              "      <td>-0.62155</td>\n",
              "      <td>-8.262644</td>\n",
              "      <td>0.0</td>\n",
              "      <td>...</td>\n",
              "      <td>-4.95448</td>\n",
              "      <td>-8.113829</td>\n",
              "      <td>5.106945</td>\n",
              "      <td>10.410107</td>\n",
              "      <td>0.0</td>\n",
              "      <td>1.82363</td>\n",
              "      <td>4.100732</td>\n",
              "      <td>4.915877</td>\n",
              "      <td>2.378255</td>\n",
              "      <td>-8.752061</td>\n",
              "    </tr>\n",
              "    <tr>\n",
              "      <th>3</th>\n",
              "      <td>0.0</td>\n",
              "      <td>5.302999</td>\n",
              "      <td>0.0</td>\n",
              "      <td>1.029493</td>\n",
              "      <td>0.0</td>\n",
              "      <td>0.0</td>\n",
              "      <td>-8.007869</td>\n",
              "      <td>-0.62155</td>\n",
              "      <td>-8.262644</td>\n",
              "      <td>0.0</td>\n",
              "      <td>...</td>\n",
              "      <td>-4.95448</td>\n",
              "      <td>-8.113829</td>\n",
              "      <td>5.106945</td>\n",
              "      <td>10.410107</td>\n",
              "      <td>0.0</td>\n",
              "      <td>1.82363</td>\n",
              "      <td>4.100732</td>\n",
              "      <td>4.915877</td>\n",
              "      <td>2.378255</td>\n",
              "      <td>-8.752061</td>\n",
              "    </tr>\n",
              "    <tr>\n",
              "      <th>4</th>\n",
              "      <td>-0.0</td>\n",
              "      <td>-5.302999</td>\n",
              "      <td>-0.0</td>\n",
              "      <td>-1.029493</td>\n",
              "      <td>-0.0</td>\n",
              "      <td>-0.0</td>\n",
              "      <td>8.007869</td>\n",
              "      <td>0.62155</td>\n",
              "      <td>8.262644</td>\n",
              "      <td>-0.0</td>\n",
              "      <td>...</td>\n",
              "      <td>4.95448</td>\n",
              "      <td>8.113829</td>\n",
              "      <td>-5.106945</td>\n",
              "      <td>-10.410107</td>\n",
              "      <td>-0.0</td>\n",
              "      <td>-1.82363</td>\n",
              "      <td>-4.100732</td>\n",
              "      <td>-4.915877</td>\n",
              "      <td>-2.378255</td>\n",
              "      <td>8.752061</td>\n",
              "    </tr>\n",
              "  </tbody>\n",
              "</table>\n",
              "<p>5 rows × 100 columns</p>\n",
              "</div>\n",
              "      <button class=\"colab-df-convert\" onclick=\"convertToInteractive('df-1225663b-820f-447e-a9a2-84bf25611c8e')\"\n",
              "              title=\"Convert this dataframe to an interactive table.\"\n",
              "              style=\"display:none;\">\n",
              "        \n",
              "  <svg xmlns=\"http://www.w3.org/2000/svg\" height=\"24px\"viewBox=\"0 0 24 24\"\n",
              "       width=\"24px\">\n",
              "    <path d=\"M0 0h24v24H0V0z\" fill=\"none\"/>\n",
              "    <path d=\"M18.56 5.44l.94 2.06.94-2.06 2.06-.94-2.06-.94-.94-2.06-.94 2.06-2.06.94zm-11 1L8.5 8.5l.94-2.06 2.06-.94-2.06-.94L8.5 2.5l-.94 2.06-2.06.94zm10 10l.94 2.06.94-2.06 2.06-.94-2.06-.94-.94-2.06-.94 2.06-2.06.94z\"/><path d=\"M17.41 7.96l-1.37-1.37c-.4-.4-.92-.59-1.43-.59-.52 0-1.04.2-1.43.59L10.3 9.45l-7.72 7.72c-.78.78-.78 2.05 0 2.83L4 21.41c.39.39.9.59 1.41.59.51 0 1.02-.2 1.41-.59l7.78-7.78 2.81-2.81c.8-.78.8-2.07 0-2.86zM5.41 20L4 18.59l7.72-7.72 1.47 1.35L5.41 20z\"/>\n",
              "  </svg>\n",
              "      </button>\n",
              "      \n",
              "  <style>\n",
              "    .colab-df-container {\n",
              "      display:flex;\n",
              "      flex-wrap:wrap;\n",
              "      gap: 12px;\n",
              "    }\n",
              "\n",
              "    .colab-df-convert {\n",
              "      background-color: #E8F0FE;\n",
              "      border: none;\n",
              "      border-radius: 50%;\n",
              "      cursor: pointer;\n",
              "      display: none;\n",
              "      fill: #1967D2;\n",
              "      height: 32px;\n",
              "      padding: 0 0 0 0;\n",
              "      width: 32px;\n",
              "    }\n",
              "\n",
              "    .colab-df-convert:hover {\n",
              "      background-color: #E2EBFA;\n",
              "      box-shadow: 0px 1px 2px rgba(60, 64, 67, 0.3), 0px 1px 3px 1px rgba(60, 64, 67, 0.15);\n",
              "      fill: #174EA6;\n",
              "    }\n",
              "\n",
              "    [theme=dark] .colab-df-convert {\n",
              "      background-color: #3B4455;\n",
              "      fill: #D2E3FC;\n",
              "    }\n",
              "\n",
              "    [theme=dark] .colab-df-convert:hover {\n",
              "      background-color: #434B5C;\n",
              "      box-shadow: 0px 1px 3px 1px rgba(0, 0, 0, 0.15);\n",
              "      filter: drop-shadow(0px 1px 2px rgba(0, 0, 0, 0.3));\n",
              "      fill: #FFFFFF;\n",
              "    }\n",
              "  </style>\n",
              "\n",
              "      <script>\n",
              "        const buttonEl =\n",
              "          document.querySelector('#df-1225663b-820f-447e-a9a2-84bf25611c8e button.colab-df-convert');\n",
              "        buttonEl.style.display =\n",
              "          google.colab.kernel.accessAllowed ? 'block' : 'none';\n",
              "\n",
              "        async function convertToInteractive(key) {\n",
              "          const element = document.querySelector('#df-1225663b-820f-447e-a9a2-84bf25611c8e');\n",
              "          const dataTable =\n",
              "            await google.colab.kernel.invokeFunction('convertToInteractive',\n",
              "                                                     [key], {});\n",
              "          if (!dataTable) return;\n",
              "\n",
              "          const docLinkHtml = 'Like what you see? Visit the ' +\n",
              "            '<a target=\"_blank\" href=https://colab.research.google.com/notebooks/data_table.ipynb>data table notebook</a>'\n",
              "            + ' to learn more about interactive tables.';\n",
              "          element.innerHTML = '';\n",
              "          dataTable['output_type'] = 'display_data';\n",
              "          await google.colab.output.renderOutput(dataTable, element);\n",
              "          const docLink = document.createElement('div');\n",
              "          docLink.innerHTML = docLinkHtml;\n",
              "          element.appendChild(docLink);\n",
              "        }\n",
              "      </script>\n",
              "    </div>\n",
              "  </div>\n",
              "  "
            ]
          },
          "metadata": {},
          "execution_count": 455
        }
      ]
    },
    {
      "cell_type": "code",
      "source": [
        "dW1 =  true_dw.iloc[:14].dropna(axis=1).to_numpy()\n",
        "db1 = true_db.iloc[0].dropna().to_numpy().reshape(100, 1)\n",
        "dW2 =  true_dw.iloc[14:114].dropna(axis=1).to_numpy()\n",
        "db2 = true_db.iloc[1].dropna().to_numpy().reshape(40, 1)\n",
        "dW3 =  true_dw.iloc[114:154].dropna(axis=1).to_numpy()\n",
        "db3 = true_db.iloc[2].dropna().to_numpy().reshape(4, 1)"
      ],
      "metadata": {
        "id": "WiQUcXNMw7Z7"
      },
      "execution_count": 456,
      "outputs": []
    },
    {
      "cell_type": "code",
      "source": [
        "grads[2].T"
      ],
      "metadata": {
        "colab": {
          "base_uri": "https://localhost:8080/"
        },
        "id": "L8QF9TSeytzK",
        "outputId": "d4e28f57-bc7d-44df-8e9a-d85ffb1127a7"
      },
      "execution_count": 460,
      "outputs": [
        {
          "output_type": "execute_result",
          "data": {
            "text/plain": [
              "array([[ 0.        ,  0.        ,  0.        , ...,  0.        ,\n",
              "         0.        ,  0.        ],\n",
              "       [-2.30953918,  0.        ,  2.72487712, ..., -0.72915438,\n",
              "         0.        ,  0.        ],\n",
              "       [ 0.        ,  0.        ,  0.        , ...,  0.        ,\n",
              "         0.        ,  0.        ],\n",
              "       ...,\n",
              "       [-1.6515336 ,  0.        ,  1.94853855, ..., -0.52141266,\n",
              "         0.        ,  0.        ],\n",
              "       [-0.31289287,  0.        ,  0.36916223, ..., -0.09878473,\n",
              "         0.        ,  0.        ],\n",
              "       [-0.12763654,  0.        ,  0.15059016, ..., -0.04029667,\n",
              "         0.        ,  0.        ]])"
            ]
          },
          "metadata": {},
          "execution_count": 460
        }
      ]
    },
    {
      "cell_type": "code",
      "source": [
        "dW2"
      ],
      "metadata": {
        "colab": {
          "base_uri": "https://localhost:8080/"
        },
        "id": "hrbkBRIOy59E",
        "outputId": "840607e4-ae81-4c23-bd3e-fc2574e887e2"
      },
      "execution_count": 461,
      "outputs": [
        {
          "output_type": "execute_result",
          "data": {
            "text/plain": [
              "array([[ 0.        ,  0.        ,  0.        , ...,  0.        ,\n",
              "         0.        ,  0.        ],\n",
              "       [-2.30953918,  0.        ,  2.72487712, ..., -0.72915438,\n",
              "         0.        ,  0.        ],\n",
              "       [ 0.        ,  0.        ,  0.        , ...,  0.        ,\n",
              "         0.        ,  0.        ],\n",
              "       ...,\n",
              "       [-1.6515336 ,  0.        ,  1.94853855, ..., -0.52141266,\n",
              "         0.        ,  0.        ],\n",
              "       [-0.31289287,  0.        ,  0.36916223, ..., -0.09878473,\n",
              "         0.        ,  0.        ],\n",
              "       [-0.12763654,  0.        ,  0.15059016, ..., -0.04029667,\n",
              "         0.        ,  0.        ]])"
            ]
          },
          "metadata": {},
          "execution_count": 461
        }
      ]
    },
    {
      "cell_type": "markdown",
      "source": [
        "---"
      ],
      "metadata": {
        "id": "F_-VOidWMziG"
      }
    },
    {
      "cell_type": "markdown",
      "source": [
        "## Task_1/b"
      ],
      "metadata": {
        "id": "YK8e-RKkM00i"
      }
    },
    {
      "cell_type": "code",
      "source": [],
      "metadata": {
        "id": "gs9iS3hMM3oa"
      },
      "execution_count": 453,
      "outputs": []
    },
    {
      "cell_type": "markdown",
      "source": [
        "---"
      ],
      "metadata": {
        "id": "T9Ka-wMBM4Gj"
      }
    },
    {
      "cell_type": "markdown",
      "source": [
        "## Task_2"
      ],
      "metadata": {
        "id": "CisIstbAM5kV"
      }
    },
    {
      "cell_type": "code",
      "source": [],
      "metadata": {
        "id": "cP7UqEELNCLy"
      },
      "execution_count": 453,
      "outputs": []
    },
    {
      "cell_type": "markdown",
      "source": [
        "---"
      ],
      "metadata": {
        "id": "CUQxwpm_NCq2"
      }
    }
  ]
}